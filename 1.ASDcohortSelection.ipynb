{
 "cells": [
  {
   "cell_type": "markdown",
   "metadata": {},
   "source": [
    "## ASD Cohort Selection\n",
    "To obtain our sample cohort of patients diagnosed with ASD, we queried the insurance database of member-linked Icd codes. \n",
    "\n",
    "We create table (ASDFacts) where:\n",
    "- the rows include every insurance database member with ICD-9 and/or ICD-10 codes associated with ASD\n",
    "- the columns include member ID, date service started, and Icd code"
   ]
  },
  {
   "cell_type": "markdown",
   "metadata": {},
   "source": [
    "### Load the R libraries"
   ]
  },
  {
   "cell_type": "code",
   "execution_count": null,
   "metadata": {},
   "outputs": [],
   "source": [
    "library(\"devtools\")\n",
    "library(\"SqlServerJtds\")\n",
    "library(\"SqlTools\")\n",
    "library(\"FactToCube\")"
   ]
  },
  {
   "cell_type": "markdown",
   "metadata": {},
   "source": [
    "### Set up the connection to the DB server"
   ]
  },
  {
   "cell_type": "code",
   "execution_count": null,
   "metadata": {},
   "outputs": [],
   "source": [
    "cn = connect.sql.server(\n",
    "    database=\"XXXX\",\n",
    "    domain=\"YYYY\",\n",
    "    server.address=\"ZZZZ\",\n",
    "    user= yourUserName,\n",
    "    password= yourPassword)\n",
    "cn"
   ]
  },
  {
   "cell_type": "markdown",
   "metadata": {},
   "source": [
    "### ASD patient selection"
   ]
  },
  {
   "cell_type": "code",
   "execution_count": null,
   "metadata": {},
   "outputs": [],
   "source": [
    "dbSendUpdate( cn, \"SELECT *\n",
    "           INTO ASDFacts\n",
    "           FROM \n",
    "           FactIcd F\n",
    "           WHERE \n",
    "           F.Icd in ('299.0', '299.00', '299.01', '299.8', '299.80', '299.81', '299.9', '299.90', '299.91',\n",
    "                     '299', '299.1', '299.10', '299.11', 'F84.', 'F84.0', 'F84.3', 'F84.5', 'F84.9')\")"
   ]
  },
  {
   "cell_type": "markdown",
   "metadata": {},
   "source": [
    "Create table (ASDMembersAtLeast1) where:\n",
    "- the rows include every member\n",
    "- the columns include the member identifier, date service started, gender, & birth year for all members with at least one diagnosis of ASD\n",
    "\n",
    "Age range was restricted to 0 - 100 years old to filter out invalid birth years"
   ]
  },
  {
   "cell_type": "code",
   "execution_count": null,
   "metadata": {},
   "outputs": [],
   "source": [
    "dbSendUpdate( cn, \"SELECT \n",
    "           A.MemberId, DateServiceStarted, Gender, BirthYear,( YEAR ( DateServiceStarted ) - BirthYear ) AS Age \n",
    "           INTO ASDMembersAtLeast1\n",
    "           FROM ASDFacts A\n",
    "           INNER JOIN Members M \n",
    "           ON A.MemberId = M.MemberId\n",
    "           WHERE\n",
    "           ( YEAR ( DateServiceStarted ) - BirthYear ) >= 0\n",
    "           AND ( YEAR ( DateServiceStarted ) - BirthYear ) <= 100\n",
    "           GROUP BY A.MemberId, DateServiceStarted\")"
   ]
  },
  {
   "cell_type": "markdown",
   "metadata": {},
   "source": [
    "Create new table (ASDMembersAtLeast3) that includes only members diagnosed with ASD ICD-9 or ICD-10 codes on 3 different dates.\n"
   ]
  },
  {
   "cell_type": "code",
   "execution_count": null,
   "metadata": {},
   "outputs": [],
   "source": [
    "dbSendUpdate( cn, \"SELECT \n",
    "           A.MemberId, COUNT ( A.MemberId ) AS nASDCounts\n",
    "           INTO ASDMembersAtLeast3\n",
    "           FROM ASDMembersAtLeast1 A\n",
    "           GROUP BY MemberId \n",
    "           HAVING COUNT ( A.MemberId ) >= 3\")"
   ]
  },
  {
   "cell_type": "markdown",
   "metadata": {},
   "source": [
    "Further refine ASD cohort table to only include the members having insurance coverage for at least 12 months:\n",
    "- Resulting table (ASD12mo3dx) included member zip codes"
   ]
  },
  {
   "cell_type": "code",
   "execution_count": null,
   "metadata": {},
   "outputs": [],
   "source": [
    "dbSendUpdate( cn, \"SELECT E.MemberId, min( E.ZipCode ) AS ZipCode,\n",
    "           COUNT ( DISTINCT E.EffectiveDate ) AS nMonthsObservation,\n",
    "           BirthYear,Gender\n",
    "           INTO ASD12mo3dx\n",
    "           FROM Enrollment E\n",
    "           INNER JOIN ASDMembersAtLeast1 I\n",
    "           ON E.MemberId = I.MemberId\n",
    "           INNER JOIN ASDMembersAtLeast3\n",
    "           ON I.MemberId = ASDMembersAtLeast3.MemberId\n",
    "           GROUP BY E.MemberId,I.BirthYear,I.Gender\n",
    "           HAVING COUNT ( DISTINCT E.EffectiveDate ) >= 12\")"
   ]
  },
  {
   "cell_type": "markdown",
   "metadata": {},
   "source": [
    "Refine ASD cohort table to include the following information for each member diagnosed with ASD:\n",
    "- Member ID\n",
    "- Birth year\n",
    "- Gender\n",
    "- Zip code\n",
    "- Date service started\n",
    "- Age"
   ]
  },
  {
   "cell_type": "code",
   "execution_count": null,
   "metadata": {},
   "outputs": [],
   "source": [
    "dbSendUpdate( cn, \"SELECT ASD.MemberId, C.BirthYear, C.Gender, ZipCode, DateServiceStarted,\n",
    "           ( YEAR ( ASD.DateServiceStarted ) - C.BirthYear ) AS Age\n",
    "           INTO ASDMembersDiagnoses\n",
    "           FROM ASDMembersAtLeast1 ASD \n",
    "           INNER JOIN ASD12mo3dx C ON\n",
    "           ASD.MemberId = C.MemberId\")"
   ]
  },
  {
   "cell_type": "markdown",
   "metadata": {},
   "source": [
    "Final working ASD cohort table reporting:\n",
    "- Member ID\n",
    "- Gender\n",
    "- Birth year\n",
    "- The member’s age at 1st diagnosis (of anything),\n",
    "- Number medical visits\n",
    "- Zip codes to use for demographic analysis"
   ]
  },
  {
   "cell_type": "code",
   "execution_count": null,
   "metadata": {},
   "outputs": [],
   "source": [
    "dbSendUpdate( cn, \"SELECT MemberID, Gender, BirthYear,MIN (Age) AS FirstDiagnosedAge,COUNT (*) AS NDiagnoses, \n",
    "           COUNT (DISTINCT DateServiceStarted) AS NVisits, MIN (ZipCode) AS ZipCode\n",
    "           INTO ASDMembers\n",
    "           FROM ASDMembersDiagnoses\n",
    "           GROUP BY MemberID, Gender, BirthYear\")"
   ]
  }
 ],
 "metadata": {
  "kernelspec": {
   "display_name": "Python 3",
   "language": "python",
   "name": "python3"
  },
  "language_info": {
   "codemirror_mode": {
    "name": "ipython",
    "version": 3
   },
   "file_extension": ".py",
   "mimetype": "text/x-python",
   "name": "python",
   "nbconvert_exporter": "python",
   "pygments_lexer": "ipython3",
   "version": "3.7.4"
  }
 },
 "nbformat": 4,
 "nbformat_minor": 2
}
