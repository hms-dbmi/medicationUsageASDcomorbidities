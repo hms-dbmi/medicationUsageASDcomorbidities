{
 "cells": [
  {
   "cell_type": "markdown",
   "metadata": {},
   "source": [
    "## ASD Cohort Demograohics\n",
    "\n",
    "We explored the ASDMembers table to describe the demographics of our cohort of members diagnosed with ASD, including:\n",
    "- the distribution of gender (sex assigned at birth)\n",
    "- age at first diagnosis by age group (0-2, 3-5, 5-11, 11-18, and 18+ year-olds)\n",
    "- regional distribution across the U.S."
   ]
  },
  {
   "cell_type": "markdown",
   "metadata": {},
   "source": [
    "### Sex distribution by age groups\n",
    "Count the number of males versus females, distribution of ages at first diagnosis (grouped by 0-2, 3-5, 5-11, 11-18, and 18 and older years-old) in the ASD cohort"
   ]
  },
  {
   "cell_type": "code",
   "execution_count": null,
   "metadata": {},
   "outputs": [],
   "source": [
    "dbSendUpdate( cn, \"SELECT\n",
    "  COUNT ( CASE WHEN Gender = 'M' THEN 1 END ) AS nMale,\n",
    "  COUNT ( CASE WHEN Gender = 'F' THEN 1 END ) AS nFemale,\n",
    "  COUNT ( CASE WHEN FirstDiagnosedAge >= 0 AND FirstDiagnosedAge < 2 THEN 1 END ) AS zero_to_two,\n",
    "  COUNT ( CASE WHEN FirstDiagnosedAge >= 2 AND FirstDiagnosedAge < 5 THEN 1 END ) AS three_to_five,\n",
    "  COUNT ( CASE WHEN FirstDiagnosedAge >= 5 AND FirstDiagnosedAge < 11 THEN 1 END ) AS five_to_eleven,\n",
    "  COUNT ( CASE WHEN FirstDiagnosedAge >= 11 AND FirstDiagnosedAge < 18 THEN 1 END ) AS elevent_to_eighteen,\n",
    "  COUNT ( CASE WHEN FirstDiagnosedAge >= 18 THEN 1 END ) AS eighteen_plus,\n",
    "  COUNT ( MemberId ) AS TOTAL\n",
    "FROM ASDMembers\")"
   ]
  },
  {
   "cell_type": "markdown",
   "metadata": {},
   "source": [
    "### Regional distribution\n",
    "To describe the regional distribution of the ASD cohort, we: \n",
    "1. Create a table that maps member ID and zip code to the state associated with that zip code. \n",
    "2. Separate maps were created for each region of the U.S. (West, Midwest, Southwest, Southeast, Northeast, and non-contiguous U.S. states and territories) depending on the state. These region-specific maps were used in conjunction with member ID to count the ASD-diagnosed members with zip codes associated with each region."
   ]
  },
  {
   "cell_type": "code",
   "execution_count": null,
   "metadata": {},
   "outputs": [],
   "source": [
    "## Create table (ASDRegionalMap) mapping member ID and member zip code to associated states\n",
    "\n",
    "dbSendUpdate( cn, \"SELECT ASD.MemberId, Zips.ZipCode, Zips.State\n",
    "INTO ASDRegionalMap\n",
    "FROM ASDMembers ASD, USGeography.dbo.UspsZipCodeRegions Zips\n",
    "GROUP BY MemberId, ASD.ZipCode, Zips.ZipCode, Zips.State\n",
    "HAVING ASD.ZipCode = Zips.ZipCode\")"
   ]
  },
  {
   "cell_type": "markdown",
   "metadata": {},
   "source": [
    "#### Western States"
   ]
  },
  {
   "cell_type": "code",
   "execution_count": null,
   "metadata": {},
   "outputs": [],
   "source": [
    "##Create a temporary table mapping zip codes associated with the Western states\n",
    "\n",
    "dbSendUpdate( cn, \"SELECT DISTINCT ZipCode,State,'West' AS Region\n",
    "INTO #tmpWestZipCodeMap\n",
    "FROM ASDRegionalMap\n",
    "WHERE State in ( 'WA', 'OR', 'ID', 'MT', 'WY', 'CO', 'UT', 'NV', 'CA' )\n",
    "\")\n",
    "\n",
    "## Count the number of patients in the ASD cohort with Western state zip codes\n",
    "\n",
    "dbSendUpdate( cn, \"SELECT COUNT ( DISTINCT MemberId )\n",
    "FROM ASDRegionalMap\n",
    "WHERE ZipCode IN ( SELECT ZipCode FROM #tmpWestZipCodeMap )\")\n"
   ]
  },
  {
   "cell_type": "markdown",
   "metadata": {},
   "source": [
    "#### Midwestern states"
   ]
  },
  {
   "cell_type": "code",
   "execution_count": null,
   "metadata": {},
   "outputs": [],
   "source": [
    "##Create a temporary table mapping zip codes associated with the Midwestern states\n",
    "\n",
    "dbSendUpdate( cn, \"SELECT DISTINCT ZipCode,State,'Midwest' AS Region\n",
    "INTO #tmpMidwestZipCodeMap\n",
    "FROM ASDRegionalMap\n",
    "WHERE State in ( 'MN', 'WI', 'MI', 'OH', 'IN', 'IL', 'IA', 'MO', 'KS', 'NE', 'SD', 'ND' )\n",
    "\")\n",
    "\n",
    "##Count the number of patients in the ASD cohort with Midwestern state zip codes\n",
    "\n",
    "dbSendUpdate( cn, \"SELECT COUNT ( DISTINCT MemberId )\n",
    "FROM ASDRegionalMap\n",
    "WHERE ZipCode IN ( SELECT ZipCode FROM #tmpMidwestZipCodeMap )\n",
    "\")"
   ]
  },
  {
   "cell_type": "markdown",
   "metadata": {},
   "source": [
    "#### Southwestern States"
   ]
  },
  {
   "cell_type": "code",
   "execution_count": null,
   "metadata": {},
   "outputs": [],
   "source": [
    "##Create a temporary table mapping zip codes associated with the Southwestern states\n",
    "\n",
    "dbSendUpdate( cn, \"SELECT DISTINCT ZipCode,State,'Southwest' AS Region\n",
    "INTO #tmpSouthwestZipCodeMap\n",
    "FROM ASDRegionalMap\n",
    "WHERE State in ( 'OK', 'TX', 'NM', 'AZ' )\n",
    "\")\n",
    "\n",
    "##Count the number of patients in the ASD cohort with Southwestern state zip codes\n",
    "\n",
    "dbSendUpdate( cn, \"SELECT COUNT ( DISTINCT MemberId )\n",
    "FROM ASDRegionalMap\n",
    "WHERE ZipCode IN ( SELECT ZipCode FROM #tmpSouthwestZipCodeMap )\n",
    "\")"
   ]
  },
  {
   "cell_type": "markdown",
   "metadata": {},
   "source": [
    "#### Southeastern States"
   ]
  },
  {
   "cell_type": "code",
   "execution_count": null,
   "metadata": {},
   "outputs": [],
   "source": [
    "##Create a temporary table mapping zip codes associated with the Southeastern states\n",
    "\n",
    "dbSendUpdate( cn, \"SELECT DISTINCT ZipCode, State,'Southeast' AS Region\n",
    "INTO #tmpSoutheastZipCodeMap\n",
    "FROM ASDRegionalMap\n",
    "WHERE State in ( 'WV', 'DE', 'MD', 'DC', 'VA', 'NC', 'SC', 'KY', 'TN', 'GA', 'FL', 'AL', 'MS', 'LA', 'AR' )\n",
    "\")\n",
    "\n",
    "##Count the number of patients in the ASD cohort with Southeastern state zip codes\n",
    "\n",
    "dbSendUpdate( cn, \"SELECT COUNT ( DISTINCT MemberId )\n",
    "FROM ASDRegionalMap\n",
    "WHERE ZipCode IN ( SELECT ZipCode FROM #tmpSoutheastZipCodeMap )\n",
    "\")"
   ]
  },
  {
   "cell_type": "markdown",
   "metadata": {},
   "source": [
    "#### Northeastern States"
   ]
  },
  {
   "cell_type": "code",
   "execution_count": null,
   "metadata": {},
   "outputs": [],
   "source": [
    "##Create a temporary table mapping zip codes associated with the Northeast states\n",
    "\n",
    "dbSendUpdate( cn, \"SELECT DISTINCT ZipCode, State,'Northeast' AS Region\n",
    "INTO #tmpNortheastZipCodeMap\n",
    "FROM ASDRegionalMap\n",
    "WHERE State in ( 'NJ', 'PA', 'NY', 'CT', 'RI', 'MA', 'NH', 'VT', 'ME' )\n",
    "\")\n",
    "\n",
    "##Count the number of patients in the ASD cohort with Northeastern state zip codes\n",
    "dbSendUpdate( cn, \"SELECT COUNT ( DISTINCT MemberId )\n",
    "FROM ASDRegionalMap\n",
    "WHERE ZipCode IN ( SELECT ZipCode FROM #tmpNortheastZipCodeMap )\n",
    "\")"
   ]
  },
  {
   "cell_type": "markdown",
   "metadata": {},
   "source": [
    "#### Non-contiguous U.S. states and territories"
   ]
  },
  {
   "cell_type": "code",
   "execution_count": null,
   "metadata": {},
   "outputs": [],
   "source": [
    "##Create a temporary table mapping zip codes associated with the non-contiguous U.S. states and territories\n",
    "\n",
    "dbSendUpdate( cn, \"SELECT DISTINCT ZipCode,State,'NonContinguous' AS Region\n",
    "INTO #tmpNonContiguousZipCodeMap\n",
    "FROM ASDRegionalMap\n",
    "WHERE State in ( 'AK', 'HI', 'PR', 'VI')\")\n",
    "\n",
    "##Count the number of patients in the ASD cohort with zip codes associated with the non-contiguous U.S. states and territories\n",
    "\n",
    "dbSendUpdate( cn, \"SELECT COUNT ( DISTINCT MemberId )\n",
    "FROM ASDRegionalMap\n",
    "WHERE ZipCode IN ( SELECT ZipCode FROM #tmpNonContiguousZipCodeMap )\")"
   ]
  }
 ],
 "metadata": {
  "kernelspec": {
   "display_name": "R",
   "language": "R",
   "name": "ir"
  }
 },
 "nbformat": 4,
 "nbformat_minor": 2
}
