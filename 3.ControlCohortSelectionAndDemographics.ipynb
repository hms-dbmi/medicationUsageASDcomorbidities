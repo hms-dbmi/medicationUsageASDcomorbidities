{
 "cells": [
  {
   "cell_type": "markdown",
   "metadata": {},
   "source": [
    "## Control Cohort Selection\n",
    "To obtain our control cohort of patients without any diagnosis of ASD, we queried the entire insurance database for all members with more than 12 months of insurance coverage, and valid birth years. \n",
    "\n",
    "We create temporary table (#tmpMemberCountNoDate) that includes every insurance member:\n",
    "- between the ages of 0 and 100 years-old\n",
    "- with at least 12 months of insurance coverage.\n",
    "\n",
    "Rows distinguished distinct members and columns included member ID and the duration (months) of insurance coverage"
   ]
  },
  {
   "cell_type": "code",
   "execution_count": null,
   "metadata": {},
   "outputs": [],
   "source": [
    "dbSendUpdate( cn, \"SELECT E.MemberId, COUNT ( DISTINCT E.EffectiveDate ) AS nMonthsObservation\n",
    "INTO #tmpMemberCountNoDate\n",
    "FROM Enrollment E\n",
    "INNER JOIN Members M \n",
    "ON E.MemberId = M.MemberId\n",
    "INNER JOIN FactIcd F \n",
    "ON M.MemberId = F.MemberId\n",
    "WHERE\n",
    "( YEAR ( DateServiceStarted ) - BirthYear ) >= 0\n",
    "AND ( YEAR ( DateServiceStarted ) - BirthYear ) <= 100\n",
    "GROUP BY E.MemberId\n",
    "HAVING  COUNT ( DISTINCT E.EffectiveDate ) >= 12\n",
    "\")"
   ]
  },
  {
   "cell_type": "markdown",
   "metadata": {},
   "source": [
    "Filter prior table into a new temporary table (#tmpNonASDMemberCountNoDate)\n",
    "That excludes all members with at least one diagnosis of ASD (from existing ASDMembersAtLeast1 table)"
   ]
  },
  {
   "cell_type": "code",
   "execution_count": null,
   "metadata": {},
   "outputs": [],
   "source": [
    "dbSendUpdate( cn, \"SELECT * \n",
    "INTO #tmpNonASDMemberCountNoDate\n",
    "FROM #tmpMemberCountNoDate\n",
    "WHERE MemberId NOT IN ( \n",
    "SELECT MemberId \n",
    "FROM ASDMembersAtLeast1 )\")"
   ]
  },
  {
   "cell_type": "markdown",
   "metadata": {},
   "source": [
    "Create a new temporary table that adds the dates that services were started (separate table due to size limitations)\n",
    "Dates of service were restricted to only 2008 to 2020 (database lifespan) to exclude any invalid dates\n",
    "No longer needing to include a column for duration of insurance coverage\n"
   ]
  },
  {
   "cell_type": "code",
   "execution_count": null,
   "metadata": {},
   "outputs": [],
   "source": [
    "dbSendUpdate( cn, \"SELECT T.MemberId, YEAR ( DateServiceStarted ) AS YearServiceStarted\n",
    "INTO #tmpNonASDMemberCountwDate\n",
    "FROM #tmpNonASDMemberCountNoDate T\n",
    "INNER JOIN FactIcd F\n",
    "ON F.MemberId = T.MemberId\n",
    "GROUP BY T.MemberId, DateServiceStarted\n",
    "HAVING ( YEAR ( DateServiceStarted ) ) <= 2020\n",
    "AND ( YEAR ( DateServiceStarted ) ) >= 2008\n",
    "\")"
   ]
  },
  {
   "cell_type": "markdown",
   "metadata": {},
   "source": [
    "Create temporary control cohort members table, with rows composed of distinct members,\n",
    "And columns including member ID, gender (sex assigned at birth), birth year, earliest recorded zip code,\n",
    "And age (reported as current year subtracted by birth year)"
   ]
  },
  {
   "cell_type": "code",
   "execution_count": null,
   "metadata": {},
   "outputs": [],
   "source": [
    "dbSendUpdate( cn, \"SELECT T.MemberId, M.Gender, M.BirthYear, MIN ( E.ZipCode ) AS ZipCode, ( T.YearServiceStarted - BirthYear ) AS Age\n",
    "INTO #NonASDMemberDiagnoses\n",
    "FROM #tmpNonASDMemberCountwDate T\n",
    "INNER JOIN Members M \n",
    "ON M.MemberId = T.MemberId\n",
    "INNER JOIN Enrollment E \n",
    "ON E.MemberId = T.MemberId\n",
    "WHERE ( T.YearServiceStarted - BirthYear ) >= 0\n",
    "AND ( T.YearServiceStarted - BirthYear ) <= 100\n",
    "GROUP BY T.MemberId, YearServiceStarted, Gender, BirthYear\n",
    "\")"
   ]
  },
  {
   "cell_type": "markdown",
   "metadata": {},
   "source": [
    "Create final control cohort (non-ASD) members table with the following information:\n",
    "- member ID,\n",
    "- Gender (sex assigned at birth)\n",
    "- birth year\n",
    "- age at 1st (non-ASD) diagnosis\n",
    "- earliest recorded zip code"
   ]
  },
  {
   "cell_type": "code",
   "execution_count": null,
   "metadata": {},
   "outputs": [],
   "source": [
    "dbSendUpdate( cn, \"SELECT MemberID,Gender,BirthYear,MIN (Age) AS FirstDiagnosedAge,MIN (ZipCode) AS ZipCode\n",
    "INTO #tmpNonASDMembers\n",
    "FROM #NonASDMemberDiagnoses\n",
    "GROUP BY MemberID, Gender, BirthYear\n",
    "\")"
   ]
  },
  {
   "cell_type": "markdown",
   "metadata": {},
   "source": [
    "### Control Cohort Demographics\n",
    "We explored the NonASDMembers table to describe the demographics of our control cohort of members without a diagnosis of ASD, including:\n",
    "- the distribution of gender (sex assigned at birth)\n",
    "- age at first diagnosis by age group (0-2, 3-5, 5-11, 11-18, and 18+ year-olds)\n",
    "- regional distribution across the U.S.\n"
   ]
  },
  {
   "cell_type": "markdown",
   "metadata": {},
   "source": [
    "Count the number of males versus females, distribution of ages at first diagnosis (grouped by 0-2, 3-5, 5-11, 11-18, and 18 and older years-old) in the non-ASD control cohort\n"
   ]
  },
  {
   "cell_type": "code",
   "execution_count": null,
   "metadata": {},
   "outputs": [],
   "source": [
    "dbSendUpdate( cn, \"SELECT\n",
    "  COUNT ( CASE WHEN Gender = 'M' THEN 1 END ) AS nMale,\n",
    "  COUNT ( CASE WHEN Gender = 'F' THEN 1 END ) AS nFemale,\n",
    "  COUNT ( CASE WHEN FirstDiagnosedAge >= 0 AND FirstDiagnosedAge < 2 THEN 1 END ) AS zero_to_two,\n",
    "  COUNT ( CASE WHEN FirstDiagnosedAge >= 2 AND FirstDiagnosedAge < 5 THEN 1 END ) AS three_to_five,\n",
    "  COUNT ( CASE WHEN FirstDiagnosedAge >= 5 AND FirstDiagnosedAge < 11 THEN 1 END ) AS five_to_eleven,\n",
    "  COUNT ( CASE WHEN FirstDiagnosedAge >= 11 AND FirstDiagnosedAge < 18 THEN 1 END ) AS elevent_to_eighteen,\n",
    "  COUNT ( CASE WHEN FirstDiagnosedAge >= 18 THEN 1 END ) AS eighteen_plus,\n",
    "  COUNT ( MemberId ) AS TOTAL\n",
    "FROM #tmpNonASDMembers\")"
   ]
  },
  {
   "cell_type": "markdown",
   "metadata": {},
   "source": [
    "To describe the regional distribution of the non-ASD control cohort, we first created a table that maps member ID and zip code to the state associated with that zip code. "
   ]
  },
  {
   "cell_type": "code",
   "execution_count": null,
   "metadata": {},
   "outputs": [],
   "source": [
    "##Create table (RegionalMap_NonASD) mapping member ID and member zip code to associated states\n",
    "\n",
    "dbSendUpdate( cn, \"SELECT NonASD.MemberId, Zips.ZipCode, Zips.State\n",
    "INTO RegionalMap_NonASD\n",
    "FROM #tmpNonASDMembers NonASD, USGeography.dbo.UspsZipCodeRegions Zips\n",
    "GROUP BY MemberId, NonASD.ZipCode, Zips.ZipCode, Zips.State\n",
    "HAVING NonASD.ZipCode = Zips.ZipCode\n",
    "\")\n",
    "\n",
    "dbGetQuery( cn, \"SELECT COUNT ( MemberId ) \n",
    "FROM RegionalMap_NonASD\" )"
   ]
  },
  {
   "cell_type": "markdown",
   "metadata": {},
   "source": [
    "Then, as with the ASD cohort regional descriptions, separate maps were created for each region of the U.S. (West, Midwest, Southwest, Southeast, Northeast, and non-contiguous U.S. states and territories) depending on the state. These region-specific maps were used in conjunction with member ID to count the non-ASD members with zip codes associated with each region."
   ]
  },
  {
   "cell_type": "markdown",
   "metadata": {},
   "source": [
    "#### Western states"
   ]
  },
  {
   "cell_type": "code",
   "execution_count": null,
   "metadata": {},
   "outputs": [],
   "source": [
    "##Create a temporary table mapping zip codes associated with the Western states\n",
    "\n",
    "dbSendUpdate( cn, \"SELECT DISTINCT ZipCode, State,'West' AS Region\n",
    "INTO #tmpWestZipCodeMap_NonASD\n",
    "FROM RegionalMap_NonASD\n",
    "WHERE State in ( 'WA', 'OR', 'ID', 'MT', 'WY', 'CO', 'UT', 'NV', 'CA' )\")\n",
    "\n",
    "--Count the number of patients in the non-ASD control cohort with Western state zip codes\n",
    "\n",
    "dbGetQuery( cn, \"SELECT COUNT ( DISTINCT MemberId )\n",
    "FROM RegionalMap_NonASD\n",
    "WHERE ZipCode IN ( SELECT ZipCode FROM #tmpWestZipCodeMap_NonASD )\")"
   ]
  },
  {
   "cell_type": "markdown",
   "metadata": {},
   "source": [
    "#### Midwestern States"
   ]
  },
  {
   "cell_type": "code",
   "execution_count": null,
   "metadata": {},
   "outputs": [],
   "source": [
    "dbSendUpdate( cn, \"SELECT DISTINCT ZipCode,State, 'Midwest' AS Region\n",
    "INTO #tmpMidwestZipCodeMap_NonASD\n",
    "FROM RegionalMap_NonASD\n",
    "WHERE State in ( 'MN', 'WI', 'MI', 'OH', 'IN', 'IL', 'IA', 'MO', 'KS', 'NE', 'SD', 'ND' )\n",
    "\")\n",
    "\n",
    "dbGetQuery( cn, \"SELECT COUNT ( DISTINCT MemberId )\n",
    "FROM RegionalMap_NonASD\n",
    "WHERE ZipCode IN ( SELECT ZipCode FROM #tmpMidwestZipCodeMap_NonASD )\n",
    "\")"
   ]
  },
  {
   "cell_type": "markdown",
   "metadata": {},
   "source": [
    "#### Southwestern States"
   ]
  },
  {
   "cell_type": "code",
   "execution_count": null,
   "metadata": {},
   "outputs": [],
   "source": [
    "dbSendUpdate( cn, \"SELECT DISTINCT ZipCode,State, 'Southwest' AS Region\n",
    "INTO #tmpSouthwestZipCodeMap_NonASD\n",
    "FROM RegionalMap_NonASD\n",
    "WHERE State in ( 'OK', 'TX', 'NM', 'AZ' )\n",
    "\")\n",
    "\n",
    "dbGetQuery( cn, \"SELECT COUNT ( DISTINCT MemberId )\n",
    "FROM RegionalMap_NonASD\n",
    "WHERE ZipCode IN ( SELECT ZipCode FROM #tmpSouthwestZipCodeMap_NonASD )\n",
    "\")"
   ]
  },
  {
   "cell_type": "markdown",
   "metadata": {},
   "source": [
    "#### Southeastern States"
   ]
  },
  {
   "cell_type": "code",
   "execution_count": null,
   "metadata": {},
   "outputs": [],
   "source": [
    "dbSendUpdate( cn, \"SELECT DISTINCT ZipCode, State, 'Southeast' AS Region\n",
    "INTO #tmpSoutheastZipCodeMap_NonASD\n",
    "FROM RegionalMap_NonASD\n",
    "WHERE State in ( 'WV', 'DE', 'MD', 'DC', 'VA', 'NC', 'SC', 'KY', 'TN', 'GA', 'FL', 'AL', 'MS', 'LA', 'AR' )\n",
    "\")\n",
    "\n",
    "dbGetQuery( cn, \"SELECT COUNT ( DISTINCT MemberId )\n",
    "FROM RegionalMap_NonASD\n",
    "WHERE ZipCode IN ( SELECT ZipCode FROM #tmpSoutheastZipCodeMap_NonASD )\n",
    "\")"
   ]
  },
  {
   "cell_type": "markdown",
   "metadata": {},
   "source": [
    "#### Northeastern States"
   ]
  },
  {
   "cell_type": "code",
   "execution_count": null,
   "metadata": {},
   "outputs": [],
   "source": [
    "dbSendUpdate( cn, \"SELECT DISTINCT ZipCode,State, 'Northeast' AS Region\n",
    "INTO #tmpNortheastZipCodeMap_NonASD\n",
    "FROM RegionalMap_NonASD\n",
    "WHERE State in ( 'NJ', 'PA', 'NY', 'CT', 'RI', 'MA', 'NH', 'VT', 'ME' )\n",
    "\")\n",
    "\n",
    "dbGetQuery( cn, \"SELECT COUNT ( DISTINCT MemberId )\n",
    "FROM RegionalMap_NonASD\n",
    "WHERE ZipCode IN ( SELECT ZipCode FROM #tmpNortheastZipCodeMap_NonASD )\n",
    "\")"
   ]
  },
  {
   "cell_type": "markdown",
   "metadata": {},
   "source": [
    "#### Non-contiguous U.S. states and territories"
   ]
  },
  {
   "cell_type": "code",
   "execution_count": null,
   "metadata": {},
   "outputs": [],
   "source": [
    "dbSendUpdate( cn, \"SELECT DISTINCT ZipCode, State, 'NonContiguous' AS Region\n",
    "INTO #tmpNonContiguousZipCodeMap_NonASD\n",
    "FROM RegionalMap_NonASD\n",
    "WHERE State in ( 'AK', 'HI', 'PR', 'VI')\n",
    "\")\n",
    "\n",
    "dbGetQuery( cn, \"SELECT COUNT ( DISTINCT MemberId )\n",
    "FROM RegionalMap_NonASD\n",
    "WHERE ZipCode IN ( SELECT ZipCode FROM #tmpNonContiguousZipCodeMap_NonASD )\n",
    "\")"
   ]
  }
 ],
 "metadata": {
  "kernelspec": {
   "display_name": "R",
   "language": "R",
   "name": "ir"
  }
 },
 "nbformat": 4,
 "nbformat_minor": 2
}
