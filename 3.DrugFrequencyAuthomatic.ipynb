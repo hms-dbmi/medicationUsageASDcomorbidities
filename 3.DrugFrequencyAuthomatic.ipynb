{
 "cells": [
  {
   "cell_type": "markdown",
   "metadata": {},
   "source": [
    "## Drug Use Frequency\n",
    "\n",
    "### ASD Drugs Pharmacy Data\n",
    "To evaluate the use of each of the target study drugs in the ASD cohort, we built a table for all of the insurance pharmacy claims data for every member in the ASD cohort."
   ]
  },
  {
   "cell_type": "code",
   "execution_count": null,
   "metadata": {},
   "outputs": [],
   "source": [
    "library( ggplot2 )\n",
    "library( ggalluvial )\n",
    "library( stringr )\n",
    "library( UpSetR )"
   ]
  },
  {
   "cell_type": "markdown",
   "metadata": {},
   "source": [
    "First, we read the file with the medication names and groups that we will study and we create table with the pharmacy claims data for every member of the ASD cohort"
   ]
  },
  {
   "cell_type": "code",
   "execution_count": null,
   "metadata": {},
   "outputs": [],
   "source": [
    "medInputList <- read.delim(\"./medInputList\", header = TRUE, sep = \"\\t\", colClasses = \"character\")\n",
    "groups <- as.character( unique( medInputList$Group))\n",
    "\n",
    "dbSendUpdate( cn, \"SELECT Fills.*\n",
    "INTO ASDPharmacyClaims\n",
    "FROM ASDMembers, PharmacyClaims Fills\n",
    "WHERE ASDMembers.MemberId = Fills.MemberId\")"
   ]
  },
  {
   "cell_type": "markdown",
   "metadata": {},
   "source": [
    "Then, we mapped all of the individual study ASD-associated drugs to the many variations of National Drug Codes (NDC) to ensure that we had every NDC linked to each drug. Each drug’s NDC map was used to obtain the pharmacy claims data for each member to calculate the number of annual pharmacy claims for each drug.\n",
    "\n",
    "To build a Sankey Diagram that depicts individual member changes in the ASD study drugs over time, we used our NDC maps unique to each drug to obtain the pharmacy claims data associated with each of the seven target study drugs."
   ]
  },
  {
   "cell_type": "code",
   "execution_count": null,
   "metadata": {},
   "outputs": [],
   "source": [
    "for( i in 1:length( groups )){\n",
    "  print(i)\n",
    "  meds <- paste( tolower(medInputList[ medInputList$Group == groups[i], \"medicationName\"]), collapse=\"%' OR LOWER(NdcDescription)  like '%\")\n",
    "  query <- paste0( \"SELECT DISTINCT NationalDrugCode, '\",groups[i],\"' AS DrugName INTO \",groups[i],\"DrugCodeMap FROM ASDPharmacyClaims WHERE LOWER(NdcDescription) like '%\",meds, \"%'\")\n",
    "  dbSendUpdate( cn, paste0(\"DROP TABLE IF EXISTS \", groups[i],\"DrugCodeMap\"))\n",
    "  dbSendUpdate( cn, query)\n",
    "  \n",
    "  countQuery <- paste0(\"SELECT YEAR ( A.DispenseDate ) AS Year, COUNT(*) AS \",groups[i],\" FROM ASDPharmacyClaims A, \", groups[i],\"DrugCodeMap \",\"B WHERE A.NationalDrugCode = B.NationalDrugCode AND B.DrugName= '\",groups[i],\"' GROUP BY YEAR ( A.DispenseDate ) ORDER BY YEAR ( A.DispenseDate )\")\n",
    "  if( i == 1){\n",
    "    outputCount <- dbGetQuery( cn, countQuery)\n",
    "  }else{\n",
    "    intermediateCount <- dbGetQuery( cn, countQuery)\n",
    "    outputCount <- merge( outputCount, intermediateCount, by = \"Year\", all.x = TRUE, all.y = TRUE)\n",
    "  }\n",
    "  \n",
    "  #table with pharmacy claims for each member in the asd cohort\n",
    "  dbSendUpdate( cn, paste0(\"DROP TABLE IF EXISTS \", groups[i],\"ASD\"))\n",
    "  dbSendUpdate(cn, paste0(\"SELECT DISTINCT( MemberId ) INTO \",groups[i],\"ASD FROM ASDPharmacyClaims WHERE NationalDrugCode IN (SELECT NationalDrugCode FROM \",groups[i],\"DrugCodeMap )\"))\n",
    "\n",
    "}\n",
    "write.table( outputCount, file=\"./medOutputCount.txt\", col.names = TRUE, row.names = FALSE, sep = \"\\t\", quote = FALSE)\n"
   ]
  },
  {
   "cell_type": "markdown",
   "metadata": {},
   "source": [
    "We create a table with the pharmacy claims data for each member in the ASD cohort"
   ]
  },
  {
   "cell_type": "code",
   "execution_count": null,
   "metadata": {},
   "outputs": [],
   "source": [
    "allMeds <- paste( tolower( unique(medInputList$medicationName)), collapse=\"%' OR LOWER(NdcDescription)  like '%\")\n",
    "dbSendUpdate( cn, \"DROP TABLE IF EXISTS PharmacySubsetTest\")\n",
    "dbSendUpdate( cn, paste0(\"SELECT MemberId, DispenseDate, NdcDescription \n",
    "                    INTO PharmacySubsetTest\n",
    "                    FROM ASDPharmacyClaims\n",
    "                    WHERE\n",
    "                    NdcDescription like '%\", allMeds,\"%'\" ))"
   ]
  },
  {
   "cell_type": "markdown",
   "metadata": {},
   "source": [
    "Select only those from 2014 to 2019"
   ]
  },
  {
   "cell_type": "code",
   "execution_count": null,
   "metadata": {},
   "outputs": [],
   "source": [
    "dbSendUpdate( cn, \"SELECT *\n",
    "                      INTO PharmacySubsetTest2014\n",
    "                      FROM PharmacySubsetTest\n",
    "                      WHERE YEAR(DispenseDate) > 2013\n",
    "                      ORDER BY MemberId, YEAR (DispenseDate)\")"
   ]
  },
  {
   "cell_type": "markdown",
   "metadata": {},
   "source": [
    "We extract the information and prepare the data as required for the Sankey diagram (TBA). "
   ]
  },
  {
   "cell_type": "code",
   "execution_count": null,
   "metadata": {},
   "outputs": [],
   "source": [
    "drugData <- dbGetQuery( cn, \"SELECT * FROM PharmacySubsetTest2014\")\n",
    "\n",
    "drugData$therapy <-  sapply(strsplit( as.character(drugData$NdcDescription), \" \"), '[', 1)\n",
    "drugData$timeperiod <-  sapply(strsplit( as.character(drugData$DispenseDate), \"[-]\"), '[', 1)\n",
    "drugData <- drugData[ drugData$timeperiod < 2020, ]\n",
    "drugDataSubset <- unique( drugData[ , c(\"MemberId\", \"timeperiod\", \"therapy\")] )\n",
    "drugDataSubset$therapy <- as.factor(drugDataSubset$therapy)\n",
    "drugDataSubset$MemberId <- as.factor(drugDataSubset$MemberId)\n",
    "drugDataSubset$timeperiod <- as.numeric( drugDataSubset$timeperiod )\n",
    "\n",
    "drugDataSubset$pair <- paste0(drugDataSubset$MemberId, \"-\", drugDataSubset$timeperiod)\n",
    "\n",
    "output <- as.data.frame( table( drugDataSubset$pair ))\n",
    "onePerYear <- output[ output$Freq ==1, ]\n",
    "subset <- drugDataSubset[ drugDataSubset$pair %in% onePerYear$Var1, ]"
   ]
  },
  {
   "cell_type": "markdown",
   "metadata": {},
   "source": [
    "Plotting Sankey table"
   ]
  },
  {
   "cell_type": "code",
   "execution_count": null,
   "metadata": {},
   "outputs": [],
   "source": [
    "p <- ggplot(subset, aes(x = timeperiod, stratum = therapy, alluvium = MemberId, fill = therapy, label = therapy)) +\n",
    "  scale_fill_brewer(type = \"qual\", palette = \"Set2\") +\n",
    "  geom_flow(color = \"darkgray\") +\n",
    "  geom_stratum() +\n",
    "  theme(legend.position = \"bottom\") +\n",
    "  ggtitle(\"Treatment across observation period\")\n",
    "\n",
    "save(p, file = \"./outputGraphic.RData\")"
   ]
  },
  {
   "cell_type": "markdown",
   "metadata": {},
   "source": [
    "### ASD Drug Use Over Time\n",
    "To analyze the use of each target study drug over time, we obtained a count of distinct members from the ASD cohort that also had valid pharmacy claims between 2014 and 2019."
   ]
  },
  {
   "cell_type": "code",
   "execution_count": null,
   "metadata": {},
   "outputs": [],
   "source": [
    "for( i in 1:length( groups )){\n",
    "  print( i )\n",
    "  meds <- paste( tolower(medInputList[ medInputList$Group == groups[i], \"medicationName\"]), collapse=\"%' OR LOWER(NdcDescription)  like '%\")\n",
    "  if( i ==1 ){\n",
    "    queryStart <- paste0( \"SELECT MemberId, YEAR(DispenseDate) AS DispenseYear,\n",
    "                          sum( case when NdcDescription like '%\", meds, \"%' then\n",
    "                          1 else 0 end) as n_\", groups[i] )\n",
    "  }else if( i != length(groups)){\n",
    "    queryStart <- paste0( queryStart, \", sum( case when NdcDescription like '%\", meds, \"%' then\n",
    "                          1 else 0 end) as n_\", groups[i])\n",
    "  }else{\n",
    "    queryStart <- paste0( queryStart, \", sum( case when NdcDescription like '%\", meds, \"%' then\n",
    "                          1 else 0 end) as n_\", groups[i], \" into PharmacySubsetTest2014to2019_counts\n",
    "                          from PharmacySubsetTest2014 group by MemberID, YEAR(DispenseDate)\")\n",
    "  } \n",
    "}\n",
    "\n",
    "dbSendUpdate( cn, \"DROP TABLE IF EXISTS PharmacySubsetTest2014to2019_counts\")\n",
    "dbSendUpdate( cn, queryStart)"
   ]
  },
  {
   "cell_type": "markdown",
   "metadata": {},
   "source": [
    "Single- and Two-Drug Regimen Use Across All Years (2014 -2019)\n",
    "\n",
    "To obtain the counts for members taking only one of the target study drugs (e.g., methylphenidate only; without pharmacy claims for atomoxetine, guanfacine, etc.). The sum of distinct member counts between 2014 and 2019 were obtained.\n",
    "\n",
    "Second, we used a similar query to determine the number of distinct members from this same sample subset that were on a two-drug regimen (e.g., methylphenidate and atomoxetine, without prescriptions for the other target drugs). The sum of distinct member counts between 2014 and 2019 were obtained."
   ]
  },
  {
   "cell_type": "code",
   "execution_count": null,
   "metadata": {},
   "outputs": [],
   "source": [
    "for( i in c(2014:2019)){\n",
    "  print(i)\n",
    "  dyear <- dbGetQuery( cn, paste0(\"SELECT * FROM PharmacySubsetTest2014to2019_counts where DispenseYear = \", i))\n",
    "  dyear[3:26] <- lapply(dyear[3:26] , function(x) replace(x,x > 0, \"Yes\") )\n",
    "  dyear[3:26] <- lapply(dyear[3:26] , function(x) replace(x,x %in% 0, \"No\") )\n",
    "  \n",
    "  dyear$combination <- apply( dyear[ , c(3:26) ] , 1 , paste , collapse = \"-\" )\n",
    "  dyear$counts <- str_count(dyear$combination, \"Yes\")\n",
    "  \n",
    "  dyearSubset <- dyear[ dyear$counts == 1 | dyear$counts == 2, ]\n",
    "  output <- as.data.frame( summary(as.factor(dyearSubset$combination)))\n",
    "  output$combination <- NA\n",
    "  \n",
    "  drugs <- colnames(dyearSubset)[3:26]\n",
    "  drugs <- gsub( \"n_\", \"\", drugs)\n",
    "  \n",
    "  for( j in 1:nrow(output)){\n",
    "    output$combination[j] <- paste( drugs[ which( unlist(strsplit( rownames(output)[j], \"-\")) == \"Yes\")], collapse = \"&\" )\n",
    "  }\n",
    "  rownames(output) <- c()\n",
    "  colnames(output) <- c(\"Count\", \"Combination\")\n",
    "  output$year <- i\n",
    "  \n",
    "  if( i == 2014){\n",
    "    final <- output\n",
    "  }else if(i > 2014){\n",
    "    final <- rbind( final, output)\n",
    "  }\n",
    "  \n",
    "}"
   ]
  },
  {
   "cell_type": "markdown",
   "metadata": {},
   "source": [
    "#### UpSetR plots\n",
    "We prepare the data to be plot using UpSetR (https://github.com/hms-dbmi/UpSetR), extracting the information by year and putting all together in a table that we called \"totalData\"."
   ]
  },
  {
   "cell_type": "code",
   "execution_count": null,
   "metadata": {},
   "outputs": [],
   "source": [
    "allGroups<- unique(medInputList$Group)\n",
    "\n",
    "for( i in c(2014:2019)){\n",
    "  print(i)\n",
    "  dataSelection <- final[ final$year == i, \"Count\"]\n",
    "  names(dataSelection) <- final[ final$year == i, \"Combination\"]\n",
    "  dataSelection <- fromExpression( dataSelection )\n",
    "  dataSelection$x <- paste0( \"Year_\", i)\n",
    "  \n",
    "  missingDrugs <- allGroups[! allGroups %in% colnames(dataSelection)]\n",
    "  dataSelection[ , missingDrugs] <- 0\n",
    "  \n",
    "  if( i == 2014){\n",
    "    totalData <- dataSelection\n",
    "  }else{\n",
    "    totalData <- rbind( totalData, dataSelection)\n",
    "  }\n",
    "}"
   ]
  },
  {
   "cell_type": "markdown",
   "metadata": {},
   "source": [
    "Finally we plot the UpSetR. "
   ]
  },
  {
   "cell_type": "code",
   "execution_count": null,
   "metadata": {},
   "outputs": [],
   "source": [
    "totalData$x <- as.factor(totalData$x)\n",
    "\n",
    "upset( as.data.frame(totalData),\n",
    "                 queries = list(\n",
    "                   list(query = elements, \n",
    "                        params = list(\"x\", c(\"Year_2019\",\"Year_2018\", \"Year_2017\", \"Year_2016\",\"Year_2015\", \"Year_2014\")), color = \"#b54e75\", active = T),\n",
    "                   list(query = elements, \n",
    "                        params = list(\"x\", c(\"Year_2018\", \"Year_2017\",\"Year_2016\", \"Year_2015\", \"Year_2014\")), color = \"#e69f00\", active = T),\n",
    "                   list(query = elements, \n",
    "                        params = list(\"x\", c(\"Year_2017\",\"Year_2016\", \"Year_2015\", \"Year_2014\")), color = \"#58ad97\", active = T),\n",
    "                   list(query = elements, \n",
    "                        params = list(\"x\", c(\"Year_2016\", \"Year_2015\", \"Year_2014\")), color = \"#566fa8\", active = T),\n",
    "                   list(query = elements, \n",
    "                        params = list(\"x\", c(\"Year_2015\", \"Year_2014\")), color = \"#2a2369\", active = T),\n",
    "                   list(query = elements, \n",
    "                        params = list(\"x\", c(\"Year_2014\")), color = grey(0.7), active = T)\n",
    "                   \n",
    "                 ), \n",
    "       nsets = 25,\n",
    "       order.by = \"freq\",\n",
    "       cutoff = 0,\n",
    "       query.legend = \"bottom\",\n",
    "       point.size = 1.1,\n",
    "       line.size = 0.35,\n",
    "       text.scale = 0.5\n",
    ")"
   ]
  }
 ],
 "metadata": {
  "kernelspec": {
   "display_name": "R",
   "language": "R",
   "name": "ir"
  }
 },
 "nbformat": 4,
 "nbformat_minor": 2
}
