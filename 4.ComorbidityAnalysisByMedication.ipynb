{
 "cells": [
  {
   "cell_type": "markdown",
   "metadata": {},
   "source": [
    "## Comorbidity analysis by medications\n",
    "\n",
    "### ACT ontology mapping\n",
    "- To calculate the prevalence of various comorbidities in the ASD cohort, we first had to develop a mapping table using the ACT Ontology v2.0.1, which contained ICD-9 and ICD-10 codes.\n",
    "\n",
    "- 108,024 distinct ICD-9 and ICD-10 codes were mapped to ACT terms aggregated in levels using Microsoft Excel. The LEN function, which is built into Excel, was used to construct the following formula:\n",
    "    **=LEN(A3)-LEN(SUBSTITUTE(A3,\"\\\",\"\"))**\n",
    "\n",
    "- When applied to the input table, this formula transformed the ICD-9 and ICD-10 codes into a table organized from Level 0 (the most general category) to Level 9 (the deepest category). ICD-10 codes were organized up to category n, while ICD-9 codes were organized up to category n-1.\n",
    "\n",
    "- The transformed table was then uploaded into the SQL server and named ACT_ICD10_ICD9_3. \n",
    "\n",
    "- To retrieve comorbidities associated with each individual in the ASD cohort and join the ASD cohort with the ACT Ontology mapping table, the ASDMembers, FactICD, and ACT_codes all had to be joined. Since this mapping process was time-intensive, it was performed separately for each level of the mapping table."
   ]
  },
  {
   "cell_type": "markdown",
   "metadata": {},
   "source": [
    "### Comorbidity analysis\n",
    "\n",
    "- In order to estimate the prevalence of comorbidities in the ASD cohort based on the primary medication being taken, the previously mapped ACT table had to also be joined with a table of pharmacy claims.\n",
    "\n",
    "- First, pharmacy claims for the ASD cohort from 2014-2019 was retrieved.\n",
    "\n",
    "- The ASD cohort was then divided into subsets based on the medications of interest in this study (methylphenidate, guanfacine, atomoxetine, risperidone, aripiprazole, fluoxetine, and citalopram). First, a subset of the cohort was created for individuals taking each drug.\n",
    "\n",
    "\n"
   ]
  },
  {
   "cell_type": "markdown",
   "metadata": {},
   "source": [
    "#### Create the PharmacySubset2014 table"
   ]
  },
  {
   "cell_type": "code",
   "execution_count": null,
   "metadata": {},
   "outputs": [],
   "source": [
    "dbSendUpdate( cn, \"\")"
   ]
  },
  {
   "cell_type": "markdown",
   "metadata": {},
   "source": [
    "#### Methylphenydate"
   ]
  },
  {
   "cell_type": "code",
   "execution_count": null,
   "metadata": {},
   "outputs": [],
   "source": [
    "dbSendUpdate( cn, \"select \n",
    "\tdistinct MemberID,\n",
    "\tYEAR(DispenseDate) as DispenseYear,\n",
    "\tsum(case when NdcDescription like 'METHYL%' then 1 else 0 end) as n_Methyl,\n",
    "\tsum(case when NdcDescription like 'ATOM%' then 1 else 0 end) as n_Atom,\n",
    "\tsum(case when NdcDescription like 'GUANFA%' then 1 else 0 end) as n_Guan,\n",
    "\tsum(case when NdcDescription like 'FLUOX%' then 1 else 0 end) as n_Fluox,\n",
    "\tsum(case when NdcDescription like 'CITALO%' then 1 else 0 end) as n_Cital,\n",
    "\tsum(case when NdcDescription like 'RISPER%' then 1 else 0 end) as n_Risperid,\n",
    "\tsum(case when NdcDescription like 'ARIPIP%' then 1 else 0 end) as n_Aripip\n",
    "into Methyl_only\n",
    "from PharmacySubset2014\n",
    "group by MemberID, YEAR(DispenseDate)\n",
    "having \n",
    "\tsum(case when NdcDescription like 'METHYL%' then 1 else 0 end) > 0\n",
    "\tand sum(case when NdcDescription like 'ATOM%' then 1 else 0 end) = 0\n",
    "\tand sum(case when NdcDescription like 'GUANFA%' then 1 else 0 end) = 0\n",
    "\tand sum(case when NdcDescription like 'FLUOX%' then 1 else 0 end) = 0\n",
    "\tand sum(case when NdcDescription like 'CITALO%' then 1 else 0 end) = 0\n",
    "\tand sum(case when NdcDescription like 'RISPER%' then 1 else 0 end) = 0\n",
    "\tand sum(case when NdcDescription like 'ARIPIP%' then 1 else 0 end) = 0\")"
   ]
  },
  {
   "cell_type": "markdown",
   "metadata": {},
   "source": [
    "#### Atomoxetine"
   ]
  },
  {
   "cell_type": "code",
   "execution_count": null,
   "metadata": {},
   "outputs": [],
   "source": [
    "dbSendUpdate( cn, \"select \n",
    "\tMemberID,\n",
    "\tYEAR(DispenseDate) as DispenseYear,\n",
    "\tsum(case when NdcDescription like 'METHYL%' then 1 else 0 end) as n_Methyl,\n",
    "\tsum(case when NdcDescription like 'ATOM%' then 1 else 0 end) as n_Atom,\n",
    "\tsum(case when NdcDescription like 'GUANFA%' then 1 else 0 end) as n_Guan,\n",
    "\tsum(case when NdcDescription like 'FLUOX%' then 1 else 0 end) as n_Fluox,\n",
    "\tsum(case when NdcDescription like 'CITALO%' then 1 else 0 end) as n_Cital,\n",
    "\tsum(case when NdcDescription like 'RISPER%' then 1 else 0 end) as n_Risperid,\n",
    "\tsum(case when NdcDescription like 'ARIPIP%' then 1 else 0 end) as n_Aripip\n",
    "into Atom_only\n",
    "from PharmacySubset2014\n",
    "group by MemberID, YEAR(DispenseDate)\n",
    "having \n",
    "\tsum(case when NdcDescription like 'METHYL%' then 1 else 0 end) = 0\n",
    "\tand sum(case when NdcDescription like 'ATOM%' then 1 else 0 end) > 0\n",
    "\tand sum(case when NdcDescription like 'GUANFA%' then 1 else 0 end) = 0\n",
    "\tand sum(case when NdcDescription like 'FLUOX%' then 1 else 0 end) = 0\n",
    "\tand sum(case when NdcDescription like 'CITALO%' then 1 else 0 end) = 0\n",
    "\tand sum(case when NdcDescription like 'RISPER%' then 1 else 0 end) = 0\n",
    "\tand sum(case when NdcDescription like 'ARIPIP%' then 1 else 0 end) = 0\")"
   ]
  },
  {
   "cell_type": "markdown",
   "metadata": {},
   "source": [
    "#### Guanfacine"
   ]
  },
  {
   "cell_type": "code",
   "execution_count": null,
   "metadata": {},
   "outputs": [],
   "source": [
    "dbSendUpdate( cn, \"select \n",
    "\tMemberID,\n",
    "\tYEAR(DispenseDate) as DispenseYear,\n",
    "\tsum(case when NdcDescription like 'METHYL%' then 1 else 0 end) as n_Methyl,\n",
    "\tsum(case when NdcDescription like 'ATOM%' then 1 else 0 end) as n_Atom,\n",
    "\tsum(case when NdcDescription like 'GUANFA%' then 1 else 0 end) as n_Guan,\n",
    "\tsum(case when NdcDescription like 'FLUOX%' then 1 else 0 end) as n_Fluox,\n",
    "\tsum(case when NdcDescription like 'CITALO%' then 1 else 0 end) as n_Cital,\n",
    "\tsum(case when NdcDescription like 'RISPER%' then 1 else 0 end) as n_Risperid,\n",
    "\tsum(case when NdcDescription like 'ARIPIP%' then 1 else 0 end) as n_Aripip\n",
    "into Guan_only\n",
    "from PharmacySubset2014\n",
    "group by MemberID, YEAR(DispenseDate)\n",
    "having \n",
    "\tsum(case when NdcDescription like 'METHYL%' then 1 else 0 end) = 0\n",
    "\tand sum(case when NdcDescription like 'ATOM%' then 1 else 0 end) = 0\n",
    "\tand sum(case when NdcDescription like 'GUANFA%' then 1 else 0 end) > 0\n",
    "\tand sum(case when NdcDescription like 'FLUOX%' then 1 else 0 end) = 0\n",
    "\tand sum(case when NdcDescription like 'CITALO%' then 1 else 0 end) = 0\n",
    "\tand sum(case when NdcDescription like 'RISPER%' then 1 else 0 end) = 0\n",
    "\tand sum(case when NdcDescription like 'ARIPIP%' then 1 else 0 end) = 0\")"
   ]
  },
  {
   "cell_type": "markdown",
   "metadata": {},
   "source": [
    "#### Risperidone"
   ]
  },
  {
   "cell_type": "code",
   "execution_count": null,
   "metadata": {},
   "outputs": [],
   "source": [
    "dbSendUpdate( cn, \"select \n",
    "\tMemberID,\n",
    "\tYEAR(DispenseDate) as DispenseYear,\n",
    "\tsum(case when NdcDescription like 'METHYL%' then 1 else 0 end) as n_Methyl,\n",
    "\tsum(case when NdcDescription like 'ATOM%' then 1 else 0 end) as n_Atom,\n",
    "\tsum(case when NdcDescription like 'GUANFA%' then 1 else 0 end) as n_Guan,\n",
    "\tsum(case when NdcDescription like 'FLUOX%' then 1 else 0 end) as n_Fluox,\n",
    "\tsum(case when NdcDescription like 'CITALO%' then 1 else 0 end) as n_Cital,\n",
    "\tsum(case when NdcDescription like 'RISPER%' then 1 else 0 end) as n_Risperid,\n",
    "\tsum(case when NdcDescription like 'ARIPIP%' then 1 else 0 end) as n_Aripip\n",
    "into Risperid_only\n",
    "from PharmacySubset2014\n",
    "group by MemberID, YEAR(DispenseDate)\n",
    "having \n",
    "\tsum(case when NdcDescription like 'METHYL%' then 1 else 0 end) = 0\n",
    "\tand sum(case when NdcDescription like 'ATOM%' then 1 else 0 end) = 0\n",
    "\tand sum(case when NdcDescription like 'GUANFA%' then 1 else 0 end) = 0\n",
    "\tand sum(case when NdcDescription like 'FLUOX%' then 1 else 0 end) = 0\n",
    "\tand sum(case when NdcDescription like 'CITALO%' then 1 else 0 end) = 0\n",
    "\tand sum(case when NdcDescription like 'RISPER%' then 1 else 0 end) > 0\n",
    "\tand sum(case when NdcDescription like 'ARIPIP%' then 1 else 0 end) = 0\")"
   ]
  },
  {
   "cell_type": "markdown",
   "metadata": {},
   "source": [
    "#### Aripiprazole"
   ]
  },
  {
   "cell_type": "code",
   "execution_count": null,
   "metadata": {},
   "outputs": [],
   "source": [
    "dbSendUpdate( cn, \"select \n",
    "\tMemberID,\n",
    "\tYEAR(DispenseDate) as DispenseYear,\n",
    "\tsum(case when NdcDescription like 'METHYL%' then 1 else 0 end) as n_Methyl,\n",
    "\tsum(case when NdcDescription like 'ATOM%' then 1 else 0 end) as n_Atom,\n",
    "\tsum(case when NdcDescription like 'GUANFA%' then 1 else 0 end) as n_Guan,\n",
    "\tsum(case when NdcDescription like 'FLUOX%' then 1 else 0 end) as n_Fluox,\n",
    "\tsum(case when NdcDescription like 'CITALO%' then 1 else 0 end) as n_Cital,\n",
    "\tsum(case when NdcDescription like 'RISPER%' then 1 else 0 end) as n_Risperid,\n",
    "\tsum(case when NdcDescription like 'ARIPIP%' then 1 else 0 end) as n_Aripip\n",
    "into Aripip_only\n",
    "from PharmacySubset2014\n",
    "group by MemberID, YEAR(DispenseDate)\n",
    "having \n",
    "\tsum(case when NdcDescription like 'METHYL%' then 1 else 0 end) = 0\n",
    "\tand sum(case when NdcDescription like 'ATOM%' then 1 else 0 end) = 0\n",
    "\tand sum(case when NdcDescription like 'GUANFA%' then 1 else 0 end) = 0\n",
    "\tand sum(case when NdcDescription like 'FLUOX%' then 1 else 0 end) = 0\n",
    "\tand sum(case when NdcDescription like 'CITALO%' then 1 else 0 end) = 0\n",
    "\tand sum(case when NdcDescription like 'RISPER%' then 1 else 0 end) = 0\n",
    "\tand sum(case when NdcDescription like 'ARIPIP%' then 1 else 0 end) > 0\")"
   ]
  },
  {
   "cell_type": "markdown",
   "metadata": {},
   "source": [
    "#### Fluoxetine"
   ]
  },
  {
   "cell_type": "code",
   "execution_count": null,
   "metadata": {},
   "outputs": [],
   "source": [
    "dbSendUpdate( cn, \"\n",
    "select \n",
    "\tMemberID,\n",
    "\tYEAR(DispenseDate) as DispenseYear,\n",
    "\tsum(case when NdcDescription like 'METHYL%' then 1 else 0 end) as n_Methyl,\n",
    "\tsum(case when NdcDescription like 'ATOM%' then 1 else 0 end) as n_Atom,\n",
    "\tsum(case when NdcDescription like 'GUANFA%' then 1 else 0 end) as n_Guan,\n",
    "\tsum(case when NdcDescription like 'FLUOX%' then 1 else 0 end) as n_Fluox,\n",
    "\tsum(case when NdcDescription like 'CITALO%' then 1 else 0 end) as n_Cital,\n",
    "\tsum(case when NdcDescription like 'RISPER%' then 1 else 0 end) as n_Risperid,\n",
    "\tsum(case when NdcDescription like 'ARIPIP%' then 1 else 0 end) as n_Aripip\n",
    "into Fluox_only\n",
    "from PharmacySubset2014\n",
    "group by MemberID, YEAR(DispenseDate)\n",
    "having \n",
    "\tsum(case when NdcDescription like 'METHYL%' then 1 else 0 end) = 0\n",
    "\tand sum(case when NdcDescription like 'ATOM%' then 1 else 0 end) = 0\n",
    "\tand sum(case when NdcDescription like 'GUANFA%' then 1 else 0 end) = 0\n",
    "\tand sum(case when NdcDescription like 'FLUOX%' then 1 else 0 end) > 0\n",
    "\tand sum(case when NdcDescription like 'CITALO%' then 1 else 0 end) = 0\n",
    "\tand sum(case when NdcDescription like 'RISPER%' then 1 else 0 end) = 0\n",
    "\tand sum(case when NdcDescription like 'ARIPIP%' then 1 else 0 end) = 0\")"
   ]
  },
  {
   "cell_type": "markdown",
   "metadata": {},
   "source": [
    "#### Citalopram"
   ]
  },
  {
   "cell_type": "code",
   "execution_count": null,
   "metadata": {},
   "outputs": [],
   "source": [
    "dbSendUpdate( cn, \"select \n",
    "\tMemberID,\n",
    "\tYEAR(DispenseDate) as DispenseYear,\n",
    "\tsum(case when NdcDescription like 'METHYL%' then 1 else 0 end) as n_Methyl,\n",
    "\tsum(case when NdcDescription like 'ATOM%' then 1 else 0 end) as n_Atom,\n",
    "\tsum(case when NdcDescription like 'GUANFA%' then 1 else 0 end) as n_Guan,\n",
    "\tsum(case when NdcDescription like 'FLUOX%' then 1 else 0 end) as n_Fluox,\n",
    "\tsum(case when NdcDescription like 'CITALO%' then 1 else 0 end) as n_Cital,\n",
    "\tsum(case when NdcDescription like 'RISPER%' then 1 else 0 end) as n_Risperid,\n",
    "\tsum(case when NdcDescription like 'ARIPIP%' then 1 else 0 end) as n_Aripip\n",
    "into Cital_only\n",
    "from PharmacySubset2014\n",
    "group by MemberID, YEAR(DispenseDate)\n",
    "having \n",
    "\tsum(case when NdcDescription like 'METHYL%' then 1 else 0 end) = 0\n",
    "\tand sum(case when NdcDescription like 'ATOM%' then 1 else 0 end) = 0\n",
    "\tand sum(case when NdcDescription like 'GUANFA%' then 1 else 0 end) = 0\n",
    "\tand sum(case when NdcDescription like 'FLUOX%' then 1 else 0 end) = 0\n",
    "\tand sum(case when NdcDescription like 'CITALO%' then 1 else 0 end) > 0\n",
    "\tand sum(case when NdcDescription like 'RISPER%' then 1 else 0 end) = 0\n",
    "\tand sum(case when NdcDescription like 'ARIPIP%' then 1 else 0 end) = 0\")"
   ]
  },
  {
   "cell_type": "markdown",
   "metadata": {},
   "source": [
    "## Subset patients taking only one drug\n",
    "Subset those that are only taking one of the drugs and extract the total number of patients in each group, that will be used later to estimate the prevalence of each comorbidity.\n",
    "\n",
    "#### Methylphenidate only"
   ]
  },
  {
   "cell_type": "code",
   "execution_count": null,
   "metadata": {},
   "outputs": [],
   "source": [
    "-- # individuals in cohort taking methyphenidate ONLY\n",
    "dbGetQuery( cn, \"SELECT COUNT(DISTINCT MemberId)\n",
    "FROM Methyl_only\")\n",
    "-- returns 4373\n",
    "\n",
    "-- only include individuals whose date service started was before dispense year of methylphenidate\n",
    "dbSendUpdate( cn, \"SELECT DISTINCT M.MemberID\n",
    "INTO Methyl_only_trimmed\n",
    "FROM Methyl_only M, ACTMap3 Map\n",
    "WHERE YEAR(Map.DateServiceStarted) < M.DispenseYear\n",
    "ORDER BY M.MemberID\")\n",
    "\n",
    "-- prevalence of comorbidities among those taking methylphenidate ONLY\n",
    "-- ACTMap3 table only included for DateServiceStarted\n",
    "dbSendUpdate( cn, \"SELECT CM.Level3, COUNT(CM.Level3) as Level3_prevalence\n",
    "INTO Methylphenidate_CMs         ----change name if query works\n",
    "FROM ACTLevel3_CM_3Times CM, Methyl_only_trimmed Methyl \n",
    "WHERE CM.MemberID = Methyl.MemberID --do we also need to match MemberID from ACTMap3##########\n",
    "GROUP BY CM.Level3\n",
    "ORDER BY Level3_prevalence DESC\")"
   ]
  },
  {
   "cell_type": "markdown",
   "metadata": {},
   "source": [
    "#### Guanfacine"
   ]
  },
  {
   "cell_type": "code",
   "execution_count": null,
   "metadata": {},
   "outputs": [],
   "source": [
    "-- # individuals in cohort taking guanfacine ONLY\n",
    "dbGetQuery( cn, \"SELECT COUNT(DISTINCT MemberId)\n",
    "FROM Guan_only\")\n",
    "-- returns 3387\n",
    "\n",
    "-- only include individuals whose date service started was before dispense year of guanfacine\n",
    "dbSendUpdate( cn, \"SELECT DISTINCT M.MemberID\n",
    "INTO Guan_only_trimmed\n",
    "FROM Guan_only M, ACTMap3 Map\n",
    "WHERE YEAR(Map.DateServiceStarted) < M.DispenseYear\n",
    "ORDER BY M.MemberID\")\n",
    "\n",
    "-- prevalence of comorbidities among those taking guanfacine ONLY\n",
    "-- ACTMap3 table only included for DateServiceStarted\n",
    "dbSendUpdate( cn, \"SELECT CM.Level3, COUNT(CM.Level3) as Level3_prevalence\n",
    "INTO Guanfacine_CMs         ----change name if query works\n",
    "FROM ACTLevel3_CM_3Times CM, Guan_only_trimmed Guan \n",
    "WHERE CM.MemberID = Guan.MemberID --do we also need to match MemberID from ACTMap3",
    "GROUP BY CM.Level3\n",
    "ORDER BY Level3_prevalence DESC\")"
   ]
  },
  {
   "cell_type": "markdown",
   "metadata": {},
   "source": [
    "#### Atomoxetine"
   ]
  },
  {
   "cell_type": "code",
   "execution_count": null,
   "metadata": {},
   "outputs": [],
   "source": [
    "-- # individuals in cohort taking atomoxetine ONLY\n",
    "dbGetQuery( cn, \"SELECT COUNT(DISTINCT MemberId)\n",
    "FROM Atom_only\")\n",
    "-- returns 561\n",
    "\n",
    "-- only include individuals whose date service started was before dispense year of atomoxetine\n",
    "dbSendUpdate( cn, \"SELECT DISTINCT A.MemberID\n",
    "INTO Atom_only_trimmed\n",
    "FROM Atom_only A, ACTMap3 Map\n",
    "WHERE YEAR(Map.DateServiceStarted) < A.DispenseYear\n",
    "ORDER BY A.MemberID\")\n",
    "\n",
    "-- prevalence of comorbidities among those taking atomoxetine ONLY\n",
    "-- ACTMap3 table only included for DateServiceStarted\n",
    "dbSendUpdate( cn, \"SELECT CM.Level3, COUNT(CM.Level3) as Level3_prevalence\n",
    "INTO Atomoxetine_CMs\n",
    "FROM ACTLevel3_CM_3Times CM, Atom_only_trimmed Atom \n",
    "WHERE CM.MemberID = Atom.MemberID \n",
    "GROUP BY CM.Level3\n",
    "ORDER BY Level3_prevalence DESC\")"
   ]
  },
  {
   "cell_type": "markdown",
   "metadata": {},
   "source": [
    "#### Fluoxetine"
   ]
  },
  {
   "cell_type": "code",
   "execution_count": null,
   "metadata": {},
   "outputs": [],
   "source": [
    "-- # individuals in cohort taking fluoxetine ONLY\n",
    "dbGetQuery( cn, \"SELECT COUNT(DISTINCT MemberId)\n",
    "FROM Fluox_only\")\n",
    "-- returns 3053\n",
    "\n",
    "-- only include individuals whose date service started was before dispense year of fluoxetine\n",
    "dbSendUpdate( cn, \"SELECT DISTINCT F.MemberID\n",
    "INTO Fluox_only_trimmed\n",
    "FROM Fluox_only F, ACTMap3 Map\n",
    "WHERE YEAR(Map.DateServiceStarted) < F.DispenseYear\n",
    "ORDER BY F.MemberID\")\n",
    "\n",
    "-- prevalence of comorbidities among those taking fluoxetine ONLY\n",
    "-- ACTMap3 table only included for DateServiceStarted\n",
    "dbSendUpdate( cn, \"SELECT CM.Level3, COUNT(CM.Level3) as Level3_prevalence\n",
    "INTO Fluoxetine_CMs\n",
    "FROM ACTLevel3_CM_3Times CM, Fluox_only_trimmed Fluox \n",
    "WHERE CM.MemberID = Fluox.MemberID \n",
    "GROUP BY CM.Level3\n",
    "ORDER BY Level3_prevalence DESC\")"
   ]
  },
  {
   "cell_type": "markdown",
   "metadata": {},
   "source": [
    "#### Citalopram"
   ]
  },
  {
   "cell_type": "code",
   "execution_count": null,
   "metadata": {},
   "outputs": [],
   "source": [
    "-- # individuals in cohort taking citalopram ONLY\n",
    "dbGetQuery( cn, \"SELECT COUNT(DISTINCT MemberId)\n",
    "FROM Cital_only\")\n",
    "-- returns 943\n",
    "\n",
    "-- only include individuals whose date service started was before dispense year of citalopram\n",
    "dbSendUpdate( cn, \"SELECT DISTINCT C.MemberID\n",
    "INTO Cital_only_trimmed\n",
    "FROM Cital_only C, ACTMap3 Map\n",
    "WHERE YEAR(Map.DateServiceStarted) < C.DispenseYear\n",
    "ORDER BY C.MemberID\")\n",
    "\n",
    "-- prevalence of comorbidities among those taking citalopram ONLY\n",
    "-- ACTMap3 table only included for DateServiceStarted\n",
    "dbSendUpdate( cn, \"SELECT CM.Level3, COUNT(CM.Level3) as Level3_prevalence\n",
    "INTO Citalopram_CMs\n",
    "FROM ACTLevel3_CM_3Times CM, Cital_only_trimmed Cital \n",
    "WHERE CM.MemberID = Cital.MemberID \n",
    "GROUP BY CM.Level3\n",
    "ORDER BY Level3_prevalence DESC\")"
   ]
  },
  {
   "cell_type": "markdown",
   "metadata": {},
   "source": [
    "#### Risperidone"
   ]
  },
  {
   "cell_type": "code",
   "execution_count": null,
   "metadata": {},
   "outputs": [],
   "source": [
    "-- # individuals in cohort taking risperidone ONLY\n",
    "dbGetQuery( cn, \"SELECT COUNT(DISTINCT MemberId)\n",
    "FROM Risperid_only\")\n",
    "-- returns 2670\n",
    "\n",
    "-- only include individuals whose date service started was before dispense year of risperidone\n",
    "dbSendUpdate( cn, \"SELECT DISTINCT R.MemberID\n",
    "INTO Risperid_only_trimmed\n",
    "FROM Risperid_only R, ACTMap3 Map\n",
    "WHERE YEAR(Map.DateServiceStarted) < R.DispenseYear\n",
    "ORDER BY R.MemberID\")\n",
    "\n",
    "-- prevalence of comorbidities among those taking risperidone ONLY\n",
    "-- ACTMap3 table only included for DateServiceStarted\n",
    "dbSendUpdate( cn, \"SELECT CM.Level3, COUNT(CM.Level3) as Level3_prevalence\n",
    "INTO Risperidone_CMs\n",
    "FROM ACTLevel3_CM_3Times CM, Risperid_only_trimmed Risperid \n",
    "WHERE CM.MemberID = Risperid.MemberID \n",
    "GROUP BY CM.Level3\n",
    "ORDER BY Level3_prevalence DESC\")"
   ]
  },
  {
   "cell_type": "markdown",
   "metadata": {},
   "source": [
    "#### Aripiprazole"
   ]
  },
  {
   "cell_type": "code",
   "execution_count": null,
   "metadata": {},
   "outputs": [],
   "source": [
    "-- # individuals in cohort taking aripiprazole ONLY\n",
    "dbGetQuery( cn, \"SELECT COUNT(DISTINCT MemberId)\n",
    "FROM Aripip_only\")\n",
    "-- returns 1997\n",
    "\n",
    "-- only include individuals whose date service started was before dispense year of aripiprazole\n",
    "dbSendUpdate( cn, \"SELECT DISTINCT Ar.MemberID\n",
    "INTO Aripip_only_trimmed\n",
    "FROM Aripip_only Ar, ACTMap3 Map\n",
    "WHERE YEAR(Map.DateServiceStarted) < Ar.DispenseYear\n",
    "ORDER BY Ar.MemberID\")\n",
    "\n",
    "-- prevalence of comorbidities among those taking aripiprazole ONLY\n",
    "-- ACTMap3 table only included for DateServiceStarted\n",
    "dbSendUpdate( cn, \"SELECT CM.Level3, COUNT(CM.Level3) as Level3_prevalence\n",
    "INTO Aripiprazole_CMs\n",
    "FROM ACTLevel3_CM_3Times CM, Aripip_only_trimmed Aripip \n",
    "WHERE CM.MemberID = Aripip.MemberID \n",
    "GROUP BY CM.Level3\n",
    "ORDER BY Level3_prevalence DESC\")"
   ]
  }
 ],
 "metadata": {
  "kernelspec": {
   "display_name": "R",
   "language": "R",
   "name": "ir"
  }
 },
 "nbformat": 4,
 "nbformat_minor": 2
}
