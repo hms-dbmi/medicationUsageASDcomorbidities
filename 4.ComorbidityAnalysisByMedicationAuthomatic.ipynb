{
 "cells": [
  {
   "cell_type": "markdown",
   "metadata": {},
   "source": [
    "## Comorbidity analysis by medications\n",
    "\n",
    "### ACT ontology mapping\n",
    "- To calculate the prevalence of various comorbidities in the ASD cohort, we first had to develop a mapping table using the ACT Ontology v2.0.1, which contained ICD-9 and ICD-10 codes.\n",
    "\n",
    "- 108,024 distinct ICD-9 and ICD-10 codes were mapped to ACT terms aggregated in levels using Microsoft Excel. The LEN function, which is built into Excel, was used to construct the following formula:\n",
    "    **=LEN(A3)-LEN(SUBSTITUTE(A3,\"\\\",\"\"))**\n",
    "\n",
    "- When applied to the input table, this formula transformed the ICD-9 and ICD-10 codes into a table organized from Level 0 (the most general category) to Level 9 (the deepest category). ICD-10 codes were organized up to category n, while ICD-9 codes were organized up to category n-1.\n",
    "\n",
    "- The transformed table was then uploaded into the SQL server and named ACT_ICD10_ICD9_3. \n",
    "\n",
    "- To retrieve comorbidities associated with each individual in the ASD cohort and join the ASD cohort with the ACT Ontology mapping table, the ASDMembers, FactICD, and ACT_codes all had to be joined. Since this mapping process was time-intensive, it was performed separately for each level of the mapping table."
   ]
  },
  {
   "cell_type": "markdown",
   "metadata": {},
   "source": [
    "### Comorbidity analysis\n",
    "\n",
    "- In order to estimate the prevalence of comorbidities in the ASD cohort based on the primary medication being taken, the previously mapped ACT table had to also be joined with a table of pharmacy claims.\n",
    "\n",
    "- First, pharmacy claims for the ASD cohort from 2014-2019 was retrieved.\n",
    "\n",
    "- The ASD cohort was then divided into subsets based on the medications of interest in this study (e.g., methylphenidate, guanfacine). First, a subset of the cohort was created for individuals taking each drug.\n",
    "\n",
    "\n",
    "#### Medication Input list\n",
    "First we read the file that contains all the medications that we are analyzing. "
   ]
  },
  {
   "cell_type": "code",
   "execution_count": null,
   "metadata": {},
   "outputs": [],
   "source": [
    "library(\"devtools\")\n",
    "library(\"SqlServerJtds\")\n",
    "library(\"SqlTools\")\n",
    "library(\"FactToCube\")\n",
    "library(\"ggplot2\")\n",
    "library(\"plotly\")\n",
    "library(\"ggalluvial\")"
   ]
  },
  {
   "cell_type": "code",
   "execution_count": null,
   "metadata": {},
   "outputs": [],
   "source": [
    "medInputList <- read.delim(\"./medInputList\", header = TRUE, sep = \"\\t\", colClasses = \"character\")\n",
    "groups <- as.character( unique( medInputList$Group))"
   ]
  },
  {
   "cell_type": "markdown",
   "metadata": {},
   "source": [
    "#### Query to identify patients taking only one specific drug"
   ]
  },
  {
   "cell_type": "code",
   "execution_count": null,
   "metadata": {},
   "outputs": [],
   "source": [
    "for( i in 1:length( groups )){\n",
    "  print(i)\n",
    "  meds <- paste( tolower(medInputList[ medInputList$Group == groups[i], \"medicationName\"]), collapse=\"%' OR LOWER(NdcDescription)  like '%\")\n",
    "  queryStart <- paste0( \"SELECT DISTINCT MemberId, YEAR(DispenseDate) AS DispenseYear, \n",
    "                        sum( case when NdcDescription like '\", meds, \"%' then 1 else 0 end) as n_\", groups[i],\",\")\n",
    "  \n",
    "  otherMeds <- medInputList[ ! medInputList$Group %in% groups[i], ]\n",
    "  otherGroups <- unique(otherMeds$Group)\n",
    "  for( j in 1:length(otherGroups)){\n",
    "    print(j)\n",
    "    otherMedsList <- paste( tolower(otherMeds[ otherMeds$Group == otherGroups[j], \"medicationName\"]), collapse=\"%' OR LOWER(NdcDescription)  like '%\")\n",
    "    if( j == 1){\n",
    "      queryContinue <- paste0(queryStart, \"sum( case when NdcDescription like '\", otherMedsList, \"%' then 1 else 0 end) as n_\", otherGroups[j],\",\")\n",
    "    }else if(j < length(otherGroups)){\n",
    "      queryContinue <- paste0(queryContinue, \"sum( case when NdcDescription like '\", otherMedsList, \"%' then 1 else 0 end) as n_\", otherGroups[j],\",\")\n",
    "    }else{\n",
    "      queryEnds <- paste0(queryContinue, \"sum( case when NdcDescription like '\", otherMedsList, \"%' then 1 else 0 end) as n_\", otherGroups[j], \n",
    "                          \" INTO \", groups[i], \"_only from PharmacySubsetTest2014\n",
    "                          GROUP BY MemberId, YEAR(DispenseDate) having \n",
    "                          sum( case when NdcDescription like '\", meds, \"%' then 1 else 0 end) > 0 and \")\n",
    "      \n",
    "    }\n",
    "  }\n",
    "  for( w in 1:length(otherGroups)){\n",
    "    print(w)\n",
    "    otherMedsList <- paste( tolower(otherMeds[ otherMeds$Group == otherGroups[w], \"medicationName\"]), collapse=\"%' OR LOWER(NdcDescription)  like '%\")\n",
    "    if( w == 1){\n",
    "      finalQuery <- paste0(queryEnds, \"sum( case when NdcDescription like '\", otherMedsList, \"%' then 1 else 0 end) = 0 and \")\n",
    "    }else if(w < length(otherGroups)){\n",
    "      finalQuery <- paste0(finalQuery, \"sum( case when NdcDescription like '\", otherMedsList, \"%' then 1 else 0 end) = 0 and \")\n",
    "    }else{\n",
    "      finalQuery <- paste0(finalQuery, \"sum( case when NdcDescription like '\", otherMedsList, \"%' then 1 else 0 end) = 0\")\n",
    "    }\n",
    "  }\n",
    "  \n",
    "  dbSendUpdate( cn, paste0(\"DROP TABLE IF EXISTS \", groups[i], \"_only\"))\n",
    "  dbSendUpdate( cn, finalQuery)\n",
    "  \n",
    "}"
   ]
  },
  {
   "cell_type": "markdown",
   "metadata": {},
   "source": [
    "#### Create the ACTMap3 and ACTlevel3_CM_3Times tables"
   ]
  },
  {
   "cell_type": "code",
   "execution_count": null,
   "metadata": {},
   "outputs": [],
   "source": [
    "dbSendUpdate( cn, \"drop table if exists ACTMap3\")\n",
    "\n",
    "dbSendUpdate( cn, \"SELECT ASD.MemberId, F.DateServiceStarted, ACT.Level3 \n",
    "              INTO ACTMap3 \n",
    "              FROM \n",
    "              ASDMembers ASD \n",
    "              INNER JOIN FactIcd F ON \n",
    "              F.MemberId = ASD.MemberId \n",
    "              INNER JOIN ACT_codes ACT ON \n",
    "              ACT.IcdCode = F.Icd \n",
    "                        WHEREYEAR(F.DateServiceStarted) >= 2012 \n",
    "                        GROUPBY ASD.MemberId, DateServiceStarted, Level3\")\n",
    " \n",
    "-- only include individuals with comorbidities diagnosed >= 3 times \n",
    "dbSendUpdate( cn, \"drop table if exists ACTLevel3_CM_3Times\")\n",
    "\n",
    "dbSendUpdate( cn, \"SELECT MemberId, Level3, COUNT(*) as Level3_counts  \n",
    "INTO ACTLevel3_CM_3Times \n",
    "FROM ACTMap3 \n",
    "GROUP BY MemberID, Level3 \n",
    "HAVING COUNT(Level3) >= 3\")"
   ]
  },
  {
   "cell_type": "markdown",
   "metadata": {},
   "source": [
    "## Subset patients taking only one drug\n",
    "Subset those that are only taking one of the drugs and extract the total number of patients in each group, that will be used later to estimate the prevalence of each comorbidity.\n",
    "\n"
   ]
  },
  {
   "cell_type": "code",
   "execution_count": null,
   "metadata": {},
   "outputs": [],
   "source": [
    "for( i in 1:length(groups)){\n",
    "  print( groups[i] )\n",
    "  \n",
    "  # individuals in cohort taking ONLY one drug\n",
    "  print( dbGetQuery( cn, paste0( \"SELECT COUNT(DISTINCT MemberId) FROM \", groups[i],\"_only\")))\n",
    "  print( \"####\")\n",
    "  # only include individuals whose date service started was before dispense year of each drug\n",
    "  dbSendUpdate( cn, paste0( \"DROP TABLE IF EXISTS \", groups[i],\"_only_trimmed\"))\n",
    "  dbSendUpdate( cn, paste0( \"SELECT DISTINCT M.MemberID INTO \", groups[i],\"_only_trimmed FROM  \", \n",
    "  groups[i],\"_only M, ACTMap3 Map WHERE YEAR(Map.DateServiceStarted) < M.DispenseYear\n",
    "  ORDER BY M.MemberID\" ) )\n",
    "  \n",
    "  ## prevalence of comorbidities among those taking each drug ONLY\n",
    "  ## ACTMap3 table only included for DateServiceStarted\n",
    "  dbSendUpdate( cn, paste0( \"DROP TABLE IF EXISTS \", groups[i],\"_CMs\"))\n",
    "  dbSendUpdate( cn, paste0( \"SELECT CM.Level3, COUNT(CM.Level3) as Level3_prevalence\n",
    "  INTO \", groups[i],\"_CMs       \n",
    "  FROM ACTLevel3_CM_3Times CM, \", groups[i],\"_only_trimmed \", groups[i],\" \n",
    "  WHERE CM.MemberID = \", groups[i],\".MemberID \n",
    "  GROUP BY CM.Level3\n",
    "  ORDER BY Level3_prevalence DESC\") )\n",
    "}"
   ]
  },
  {
   "cell_type": "markdown",
   "metadata": {},
   "source": [
    "##  Heatmap representation"
   ]
  },
  {
   "cell_type": "code",
   "execution_count": null,
   "metadata": {},
   "outputs": [],
   "source": [
    "inputData <- as.data.frame( matrix(ncol=3, nrow=length(groups)))\n",
    "colnames(inputData) <- c(\"Drug\", \"n\", \"tableName\")\n",
    "\n",
    "\n",
    "for( i in 1:length(groups)){\n",
    "  inputData$Drug[i] <- groups[i]\n",
    "  inputData$n[i] <- dbGetQuery( cn, paste0( \"SELECT COUNT(DISTINCT MemberId) FROM \", groups[i],\"_only\"))\n",
    "  inputData$tableName[i] <- paste0( groups[i],\"_CMs\")\n",
    "}\n",
    "\n",
    "for( i in 1:nrow( inputData)){\n",
    "  queryCounts <- paste0( \"SELECT * FROM \", inputData$tableName[i], \n",
    "                         \" ORDER BY Level3_prevalence DESC\")\n",
    "  print( i )\n",
    "  if( i == 1){\n",
    "    output <- dbGetQuery( cn, queryCounts )\n",
    "    output$drug <- inputData$Drug[i]\n",
    "    output$totalPatients <- inputData$n[i]\n",
    "  }else{\n",
    "    intermediateOutput <- dbGetQuery( cn, queryCounts )\n",
    "    intermediateOutput$drug <- inputData$Drug[i]\n",
    "    intermediateOutput$totalPatients <- inputData$n[i]\n",
    "    output <- rbind( output, intermediateOutput )\n",
    "  }\n",
    "}"
   ]
  },
  {
   "cell_type": "markdown",
   "metadata": {},
   "source": [
    "### Percentage of patients with each comorbidity\n",
    "We estimate the percentage of patients with each comorbidities and we do a first subset selecting only those comorbidities that are in at least 10% of the patients. We mapp to the ACT levels, to later aggregate by a higher category if need it, and we remove some comorbidities that are not considered as clinically relevant for this study. "
   ]
  },
  {
   "cell_type": "code",
   "execution_count": null,
   "metadata": {},
   "outputs": [],
   "source": [
    "output$totalPatients <- as.numeric( output$totalPatients )\n",
    "output$percentage <- round( 100*(output$Level3_prevalence / output$totalPatients), 3)\n",
    "\n",
    "#select only those comorbidities in at least 1% of the patients\n",
    "outputSubset <- output[ output$percentage >= 1, ]\n",
    "\n",
    "#map to act\n",
    "actMapping <- dbGetQuery( cn, \"SELECT Level1, Level3 FROM ACT_ICD10_ICD9_3\")\n",
    "actMapping <- actMapping[!duplicated( actMapping), ]\n",
    "actMapping <- actMapping[!duplicated( actMapping$Level3 ), ]\n",
    "\n",
    "#mapped the level3 to level1\n",
    "outputMapped <- merge( outputSubset, actMapping)\n",
    "\n",
    "#exclude the comorbidities that are not clinically relevant\n",
    "excludedGroups <- c('Autistic disorder',\n",
    "                      'Encounter for newborn, infant and child health examinations',\n",
    "                      'motorized bicycle',\n",
    "                      'Other unknown and unspecified cause of morbidity or mortality',\n",
    "                      'Need for prophylactic vaccination and inoculation, Influenza',\n",
    "                      'Bus occupant injured in transport accident (v70-v79)',\n",
    "                      'Encounter for other specified aftercare',\n",
    "                      'Other long term (current) drug therapy',\n",
    "                      'Body mass index (bmi) pediatric',\n",
    "                      'Pharyngitis (acute) nos',\n",
    "                      'Acute upper respiratory infection, unspecified',\n",
    "                      'Acne vulgaris',\n",
    "                      'Hyperlipidemia, unspecified',\n",
    "                      'Encounter for adult periodic examination (annual) (physical) and any associated laboratory and radiologic examinations'\n",
    "                      )\n",
    "\n",
    "outputMapped <- outputMapped[! outputMapped$Level3 %in%  excludedGroups, ]\n",
    "save(outputMapped, file = \"outputMapped.RData\")"
   ]
  },
  {
   "cell_type": "markdown",
   "metadata": {},
   "source": [
    "### Plot the heatmap"
   ]
  },
  {
   "cell_type": "code",
   "execution_count": null,
   "metadata": {},
   "outputs": [],
   "source": [
    " #plot the heatmap\n",
    "  htmpComorbBefore <- ggplot(outputMapped, aes(drug, Level3, fill= percentage)) +\n",
    "    geom_tile()+\n",
    "    ggplot2::theme_bw() +\n",
    "    ggplot2::theme(axis.text.x = ggplot2::element_text(angle = 45, hjust = 1),\n",
    "                   panel.grid = element_blank(),\n",
    "                   text = ggplot2::element_text(size = 6),\n",
    "                   axis.title = ggplot2::element_text(size = 6))\n",
    "  save(htmpComorbBefore, file = \"./htmpComorbBefore.RData\")\n",
    "  ### plot in R studio (out from o2)\n",
    "  load( \"./outputMapped.RData\")\n",
    "\n",
    "  #remove Autistic disorder (sanity check, all patients should have ASD)\n",
    "  toplot <- outputMapped[ outputMapped$Level3 != \"Autistic disorder\", ]\n",
    "  #select 10% to filter\n",
    "  drugs <- unique(toplot$drug)\n",
    "  for( i in 1:length(drugs)){\n",
    "    selection <- toplot[ toplot$drug == drugs[i] &\n",
    "                           toplot$percentage > 10, ]\n",
    "    if(i == 1){\n",
    "      phenoList <- selection$Level3\n",
    "    }else{\n",
    "      subSet <- selection$Level3\n",
    "      phenoList <- unique( c( phenoList, subSet))\n",
    "    }\n",
    "  }\n",
    "\n",
    "  toplot <- toplot[ toplot$Level3 %in% phenoList, ]\n",
    "\n",
    "  # sort/display the groups based on Primary Symptoms condition\n",
    "  medInputList <- medInputList[order(medInputList$Primary.Symptoms.Condition),]\n",
    "  groups <- as.character( unique( medInputList$Group))\n",
    "  toplot$drug <- factor(toplot$drug, levels=groups)\n",
    "  # they should be same!\n",
    "  stopifnot(sort(unique(outputMapped$drug))==sort(groups))\n",
    "\n",
    "  #create the heatmap\n",
    "  htmpOutput<- ggplot(toplot, aes(drug, stringr::str_wrap(Level3, 60), fill= percentage)) + # 60\n",
    "    geom_tile()+\n",
    "    scale_fill_gradient(low=\"white\", high=\"blue\") +\n",
    "    #scale_fill_distiller(palette = \"YlOrRd\")+\n",
    "    #scale_fill_continuous(low=\"#F7FBFF\", high=\"#2171B5\", name=\"Events\")+\n",
    "    ggplot2::theme_bw() +\n",
    "    ggplot2::theme(axis.text.x = ggplot2::element_text(angle = 45, hjust = 1,face=\"bold\"),\n",
    "                   panel.grid = element_blank(),\n",
    "                   axis.text.y = ggplot2::element_text(size=rel(0.9)),\n",
    "                   axis.title = ggplot2:: element_text(size=rel(1.05)))+\n",
    "    labs(title = NULL, x = \"\", y =  \"\",fill=\"Percentage\")\n",
    "\n",
    "  htmpOutput\n",
    "\n",
    "  ggsave(filename=\"htmpOutput_L3.png\", plot=htmpOutput, device=\"png\",\n",
    "         height=11, width=14, units=\"in\", dpi=500)\n",
    "\n",
    " htmpOutput2 <- htmpOutput +  scale_y_discrete(position = \"right\") + \n",
    "   facet_grid( vars( stringr::str_wrap(Level1, 40)), scales = \"free\", space = \"free\",switch = \"y\") +\n",
    "   theme(strip.text.y.left = element_text(angle = 0,size=rel(1.0))) \n",
    "\n",
    "  htmpOutput2\n",
    "  ggsave(filename=\"htmpOutputL3_L1.png\", plot=htmpOutput2, device=\"png\",\n",
    "         height=12.5, width=15, units=\"in\", dpi=500)\n"
   ]
  }
 ],
 "metadata": {
  "kernelspec": {
   "display_name": "R",
   "language": "R",
   "name": "ir"
  }
 },
 "nbformat": 4,
 "nbformat_minor": 2
}