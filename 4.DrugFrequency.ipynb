{
 "cells": [
  {
   "cell_type": "markdown",
   "metadata": {},
   "source": [
    "## Drug Use Frequency\n",
    "\n",
    "### ASD Drugs Pharmacy Data\n",
    "To evaluate the use of each of the target study drugs in the ASD cohort, we built a table for all of the insurance pharmacy claims data for every member in the ASD cohort."
   ]
  },
  {
   "cell_type": "code",
   "execution_count": null,
   "metadata": {},
   "outputs": [],
   "source": [
    "library( ggplot2 )\n",
    "library( ggalluvial )\n",
    "library( stringr )\n",
    "library( UpSetR )"
   ]
  },
  {
   "cell_type": "markdown",
   "metadata": {},
   "source": [
    "First, we create table with the pharmacy claims data for every member of the ASD cohort"
   ]
  },
  {
   "cell_type": "code",
   "execution_count": null,
   "metadata": {},
   "outputs": [],
   "source": [
    "dbSendUpdate( cn, \"SELECT Fills.*\n",
    "INTO ASDPharmacyClaims\n",
    "FROM ASDMembers, PharmacyClaims Fills\n",
    "WHERE ASDMembers.MemberId = Fills.MemberId\")"
   ]
  },
  {
   "cell_type": "markdown",
   "metadata": {},
   "source": [
    "Then, we mapped all of the individual study ASD-associated drugs to the many variations of National Drug Codes (NDC) to ensure that we had every NDC linked to each drug. Each drug’s NDC map was used to obtain the pharmacy claims data for each member to calculate the number of annual pharmacy claims for each drug.\n"
   ]
  },
  {
   "cell_type": "code",
   "execution_count": null,
   "metadata": {},
   "outputs": [],
   "source": [
    "## Methylphenidate: map of NDC codes\n",
    "dbSendUpdate( cn, \"SELECT DISTINCT NationalDrugCode, 'Methylphenid' AS DrugName\n",
    "INTO MethyDrugCodeMap\n",
    "FROM ASDPharmacyClaims\n",
    "WHERE NdcDescription like '%Methylphenid%'\")\n",
    "\n",
    "## Obtain annual counts for Methylphenidate prescriptions\n",
    "dbGetQuery( cn, \"SELECT YEAR ( A.DispenseDate ), COUNT(*)\n",
    "FROM ASDPharmacyClaims A, MethyDrugCodeMap B\n",
    "WHERE A.NationalDrugCode = B.NationalDrugCode\n",
    "AND B.DrugName= 'Methylphenid'\n",
    "GROUP BY YEAR ( A.DispenseDate )\n",
    "ORDER BY YEAR ( A.DispenseDate )\")\n",
    "\n",
    "## Atomoxetine\n",
    "dbSendUpdate( cn, \"SELECT DISTINCT NationalDrugCode, 'Atomox' AS DrugName\n",
    "INTO AtomDrugCodeMap\n",
    "FROM ASDPharmacyClaims\n",
    "WHERE NdcDescription like '%Atomox%'\")\n",
    "\n",
    "##Guanfacine\n",
    "dbSendUpdate( cn, \"SELECT DISTINCT NationalDrugCode, 'Guanfac' AS DrugName\n",
    "INTO GuanDrugCodeMap\n",
    "FROM ASDPharmacyClaims\n",
    "WHERE NdcDescription like '%Guanfac%'\")\n",
    "\n",
    "##Risperidone\n",
    "dbSendUpdate( cn, \"SELECT DISTINCT NationalDrugCode, 'Risperid' AS DrugName\n",
    "INTO RisperidDrugCodeMap\n",
    "FROM ASDPharmacyClaims\n",
    "WHERE NdcDescription like '%Risperid%'\")\n",
    "\n",
    "##Aripiprazole\n",
    "dbSendUpdate( cn, \"SELECT DISTINCT NationalDrugCode, 'Aripipraz' AS DrugName\n",
    "INTO AripipDrugCodeMap\n",
    "FROM ASDPharmacyClaims\n",
    "WHERE NdcDescription like '%Aripipraz%'\")\n",
    "\n",
    "##Fluoxetine\n",
    "dbSendUpdate( cn, \"SELECT DISTINCT NationalDrugCode,'Fluoxe' AS DrugName\n",
    "INTO FluoxDrugCodeMap\n",
    "FROM ASDPharmacyClaims\n",
    "WHERE NdcDescription like '%Fluoxe%'\")\n",
    "\n",
    "##Citalopram\n",
    "dbSendUpdate( cn, \"SELECT DISTINCT NationalDrugCode,'Citalop' AS DrugName\n",
    "INTO CitalDrugCodeMap\n",
    "FROM ASDPharmacyClaims\n",
    "WHERE NdcDescription\n",
    "like '%Citalop%'\")"
   ]
  },
  {
   "cell_type": "markdown",
   "metadata": {},
   "source": [
    "## ASD Drug Use Overtime (Sankey Diagram)\n",
    "\n",
    "To build a Sankey Diagram that depicts individual member changes in the ASD study drugs over time, we used our NDC maps unique to each drug to obtain the pharmacy claims data associated with each of the seven target study drugs.\n",
    "\n",
    "We create a table with the pharmacy claims data for each member in the ASD cohort"
   ]
  },
  {
   "cell_type": "code",
   "execution_count": null,
   "metadata": {},
   "outputs": [],
   "source": [
    "#Associated with Methylphenidate prescriptions\n",
    "dbSendUpdate( cn, \"SELECT DISTINCT( MemberId )\n",
    "INTO MethyASD\n",
    "FROM ASDPharmacyClaims\n",
    "WHERE NationalDrugCode\n",
    "IN (SELECT NationalDrugCode\n",
    "    FROM MethyDrugCodeMap )\")\n",
    "    \n",
    "#Associated with Atomoxetine prescriptions\n",
    "dbSendUpdate( cn, \"SELECT DISTINCT( MemberId )\n",
    "INTO AtomASD\n",
    "FROM ASDPharmacyClaims\n",
    "WHERE NationalDrugCode\n",
    "IN (SELECT NationalDrugCode\n",
    "    FROM AtomDrugCodeMap )\")\n",
    "\n",
    "#Associated with Guanfacine prescriptions\n",
    "dbSendUpdate( cn, \"SELECT DISTINCT( MemberId )\n",
    "INTO GuanASD\n",
    "FROM ASDPharmacyClaims\n",
    "WHERE NationalDrugCode\n",
    "IN (SELECT NationalDrugCode\n",
    "    FROM GuanDrugCodeMap )\")\n",
    "\n",
    "#Associated with Risperidone prescriptions\n",
    "dbSendUpdate( cn, \"SELECT DISTINCT( MemberId )\n",
    "INTO RisperidASD\n",
    "FROM ASDPharmacyClaims\n",
    "WHERE NationalDrugCode\n",
    "IN (SELECT NationalDrugCode\n",
    "    FROM RisperidDrugCodeMap)\n",
    "\")\n",
    "\n",
    "#Associated with Aripiprazole prescriptions\n",
    "dbSendUpdate( cn, \"SELECT DISTINCT ( MemberId )\n",
    "INTO AripipASD\n",
    "FROM ASDPharmacyClaims\n",
    "WHERE NationalDrugCode \n",
    "IN (SELECT NationalDrugCode\n",
    "    FROM AripipDrugCodeMap )\")\n",
    "\n",
    "#Associated with Fluoxetine prescriptions\n",
    "dbSendUpdate( cn, \"SELECT DISTINCT( MemberId )\n",
    "INTO FluoxASD\n",
    "FROM ASDPharmacyClaims\n",
    "WHERE NationalDrugCode\n",
    "IN (SELECT NationalDrugCode\n",
    "    FROM FluoxDrugCodeMap )\")\n",
    "\n",
    "#Associated with Citalopram prescriptions\n",
    "dbSendUpdate( cn, \"SELECT DISTINCT ( MemberId )\n",
    "INTO CitalASD\n",
    "FROM ASDPharmacyClaims\n",
    "WHERE NationalDrugCode\n",
    "IN (SELECT NationalDrugCode\n",
    "    FROM CitalDrugCodeMap )\")"
   ]
  },
  {
   "cell_type": "markdown",
   "metadata": {},
   "source": [
    "Create the table"
   ]
  },
  {
   "cell_type": "code",
   "execution_count": null,
   "metadata": {},
   "outputs": [],
   "source": [
    "dbSendUpdate(cn, \"SELECT MemberId, DispenseDate, NdcDescription \n",
    "                    INTO PharmacySubset\n",
    "                    FROM ASDPharmacyClaims\n",
    "                    WHERE\n",
    "                    NdcDescription like '%Methylphenid%'\n",
    "                    OR  NdcDescription like '%Atomox%' \n",
    "                    OR  NdcDescription like '%Guanfac%' \n",
    "                    OR  NdcDescription like '%Risperid%' \n",
    "                    OR  NdcDescription like '%Aripipraz%' \n",
    "                    OR  NdcDescription like '%Fluoxe%' \n",
    "                    OR  NdcDescription like '%Citalop%'\")"
   ]
  },
  {
   "cell_type": "markdown",
   "metadata": {},
   "source": [
    "Select only those from 2014 to 2019"
   ]
  },
  {
   "cell_type": "code",
   "execution_count": null,
   "metadata": {},
   "outputs": [],
   "source": [
    "dbSendUpdate( cn, \"SELECT *\n",
    "                      INTO PharmacySubset2014\n",
    "                      FROM PharmacySubset\n",
    "                      WHERE YEAR(DispenseDate) > 2013\n",
    "                      ORDER BY MemberId, YEAR (PharmacySubset.DispenseDate)\")\n"
   ]
  },
  {
   "cell_type": "markdown",
   "metadata": {},
   "source": [
    "We extract the information and prepare the data as required for the Sankey diagram. "
   ]
  },
  {
   "cell_type": "code",
   "execution_count": null,
   "metadata": {},
   "outputs": [],
   "source": [
    "drugData <- dbGetQuery( cn, \"SELECT * FROM agf9.dbo.PharmacySubset2014\")\n",
    "\n",
    "drugData$therapy <-  sapply(strsplit( as.character(drugData$NdcDescription), \" \"), '[', 1)\n",
    "drugData$timeperiod <-  sapply(strsplit( as.character(drugData$DispenseDate), \"[-]\"), '[', 1)\n",
    "drugData <- drugData[ drugData$timeperiod < 2020, ]\n",
    "drugDataSubset <- unique( drugData[ , c(\"MemberId\", \"timeperiod\", \"therapy\")] )\n",
    "drugDataSubset$therapy <- as.factor(drugDataSubset$therapy)\n",
    "drugDataSubset$MemberId <- as.factor(drugDataSubset$MemberId)\n",
    "drugDataSubset$timeperiod <- as.numeric( drugDataSubset$timeperiod )\n",
    "\n",
    "drugDataSubset$pair <- paste0(drugDataSubset$MemberId, \"-\", drugDataSubset$timeperiod)\n",
    "\n",
    "output <- as.data.frame( table( drugDataSubset$pair ))\n",
    "onePerYear <- output[ output$Freq ==1, ]\n",
    "subset <- drugDataSubset[ drugDataSubset$pair %in% onePerYear$Var1, ]"
   ]
  },
  {
   "cell_type": "markdown",
   "metadata": {},
   "source": [
    "Plotting Sankey table"
   ]
  },
  {
   "cell_type": "code",
   "execution_count": null,
   "metadata": {},
   "outputs": [],
   "source": [
    "p <- ggplot(subset, aes(x = timeperiod, stratum = therapy, alluvium = MemberId, fill = therapy, label = therapy)) +\n",
    "  scale_fill_brewer(type = \"qual\", palette = \"Set2\") +\n",
    "  geom_flow(color = \"darkgray\") +\n",
    "  geom_stratum() +\n",
    "  theme(legend.position = \"bottom\") +\n",
    "  ggtitle(\"Treatment across observation period\")\n",
    "\n",
    "save(p, file = \"./outputGraphic.RData\")"
   ]
  },
  {
   "cell_type": "markdown",
   "metadata": {},
   "source": [
    "### ASD Drug Use Over Time (Single- and Two-Drug Regimen)\n",
    "To analyze the use of each target study drug over time, we obtained a count of distinct members from the ASD cohort that also had valid pharmacy claims between 2014 and 2019 (table: PharmacySubset2014). \n",
    "Single- and Two-Drug Regimen Use Across All Years (2014 -2019)\n",
    "\n",
    "First, we obtained these counts for members taking only one of the target study drugs (e.g., methylphenidate only; without pharmacy claims for atomoxetine, guanfacine, etc.). The sum of distinct member counts between 2014 and 2019 were obtained.\n",
    "\n",
    "Second, we used a similar query to determine the number of distinct members from this same sample subset that were on a two-drug regimen (e.g., methylphenidate and atomoxetine, without prescriptions for the other target drugs). The sum of distinct member counts between 2014 and 2019 were obtained."
   ]
  },
  {
   "cell_type": "code",
   "execution_count": null,
   "metadata": {},
   "outputs": [],
   "source": [
    "dbSendUpdate( cn, \"select \n",
    "MemberID,\n",
    "YEAR(DispenseDate) as DispenseYear,\n",
    "sum(case when NdcDescription like 'METHYL%' then 1 else 0 end) as n_Methyl,\n",
    "sum(case when NdcDescription like 'ATOM%' then 1 else 0 end) as n_Atom,\n",
    "sum(case when NdcDescription like 'GUANFA%' then 1 else 0 end) as n_Guan,\n",
    "sum(case when NdcDescription like 'FLUOX%' then 1 else 0 end) as n_Fluox,\n",
    "sum(case when NdcDescription like 'CITALO%' then 1 else 0 end) as n_Cital,\n",
    "sum(case when NdcDescription like 'RISPER%' then 1 else 0 end) as n_Risperid,\n",
    "sum(case when NdcDescription like 'ARIPIP%' then 1 else 0 end) as n_Aripip\n",
    "into agf9.dbo.PharmacySubset2014to2019_counts\n",
    "from PharmacySubset2014\n",
    "group by MemberID, YEAR(DispenseDate)\")"
   ]
  },
  {
   "cell_type": "code",
   "execution_count": null,
   "metadata": {},
   "outputs": [],
   "source": [
    "for( i in c(2014:2019)){\n",
    "  print(i)\n",
    "  dyear <- dbGetQuery( cn, paste0(\"SELECT * FROM PharmacySubset2014to2019_counts where DispenseYear = \", i))\n",
    "  dyear[3:9] <- lapply(dyear[3:9] , function(x) replace(x,x > 0, \"Yes\") )\n",
    "  dyear[3:9] <- lapply(dyear[3:9] , function(x) replace(x,x %in% 0, \"No\") )\n",
    "  \n",
    "  dyear$combination <- apply( dyear[ , c(3:9) ] , 1 , paste , collapse = \"-\" )\n",
    "  dyear$counts <- str_count(dyear$combination, \"Yes\")\n",
    "\n",
    "  dyearSubset <- dyear[ dyear$counts == 1 | dyear$counts == 2, ]\n",
    "  output <- as.data.frame( summary(as.factor(dyearSubset$combination)))\n",
    "  output$combination <- NA\n",
    "  \n",
    "  drugs <- colnames(dyearSubset)[3:9]\n",
    "  drugs <- gsub( \"n_\", \"\", drugs)\n",
    "  \n",
    "  for( j in 1:nrow(output)){\n",
    "  output$combination[j] <- paste( drugs[ which( unlist(strsplit( rownames(output)[j], \"-\")) == \"Yes\")], collapse = \"&\" )\n",
    "  }\n",
    "  rownames(output) <- c()\n",
    "  colnames(output) <- c(\"Count\", \"Combination\")\n",
    "  output$year <- i\n",
    "  \n",
    "  if( i == 2014){\n",
    "    final <- output\n",
    "  }else if(i > 2014){\n",
    "    final <- rbind( final, output)\n",
    "  }\n",
    "\n",
    "}"
   ]
  },
  {
   "cell_type": "markdown",
   "metadata": {},
   "source": [
    "#### UpSetR plots\n",
    "We prepare the data to be plot using UpSetR (https://github.com/hms-dbmi/UpSetR)\n",
    "First we extract the information by year and we plot it to see how it looks like. "
   ]
  },
  {
   "cell_type": "code",
   "execution_count": null,
   "metadata": {},
   "outputs": [],
   "source": [
    "data2014 <- final[ final$year == 2014, \"Count\"]\n",
    "names(data2014) <- final[ final$year == 2014, \"Combination\"]\n",
    "data2014df <- fromExpression( data2014 )\n",
    "data2014df$x = \"Year_2014\"\n",
    "data2014df$Atom <- 0\n",
    "data2014df$Aripip <- 0\n",
    "\n",
    "upset( fromExpression( data2014), nsets = 7)\n",
    "\n",
    "data2015 <- final[ final$year == 2015, \"Count\"]\n",
    "names(data2015) <- final[ final$year == 2015, \"Combination\"]\n",
    "data2015df <- fromExpression( data2015 )\n",
    "data2015df$x = \"Year_2015\"\n",
    "data2015df$Atom <- 0\n",
    "\n",
    "upset( fromExpression( data2015), nsets = 7)\n",
    "\n",
    "data2016 <- final[ final$year == 2016, \"Count\"]\n",
    "names(data2016) <- final[ final$year == 2016, \"Combination\"]\n",
    "data2016df <- fromExpression( data2016 )\n",
    "data2016df$x = \"Year_2016\"\n",
    "data2016df$Atom <- 0\n",
    "\n",
    "upset( fromExpression( data2016), nsets = 7)\n",
    "\n",
    "data2017 <- final[ final$year == 2017, \"Count\"]\n",
    "names(data2017) <- final[ final$year == 2017, \"Combination\"]\n",
    "data2017df <- fromExpression( data2017 )\n",
    "data2017df$x = \"Year_2017\"\n",
    "\n",
    "upset( fromExpression( data2017), nsets = 7)\n",
    "\n",
    "data2018 <- final[ final$year == 2018, \"Count\"]\n",
    "names(data2018) <- final[ final$year == 2018, \"Combination\"]\n",
    "data2018df <- fromExpression( data2018 )\n",
    "data2018df$x = \"Year_2018\"\n",
    "\n",
    "upset( fromExpression( data2018), nsets = 7)\n",
    "\n",
    "data2019 <- final[ final$year == 2019, \"Count\"]\n",
    "names(data2019) <- final[ final$year == 2019, \"Combination\"]\n",
    "data2019df <- fromExpression( data2019 )\n",
    "data2019df$x = \"Year_2019\"\n",
    "upset( fromExpression( data2019), nsets = 7)"
   ]
  },
  {
   "cell_type": "markdown",
   "metadata": {},
   "source": [
    "Then, we put all the data together to plot all the barplots together, and get a sense of the combination of drugs per year. "
   ]
  },
  {
   "cell_type": "code",
   "execution_count": null,
   "metadata": {},
   "outputs": [],
   "source": [
    "totalData <- rbind( data2014df, data2015df )\n",
    "totalData <- rbind( data2016df, totalData )\n",
    "totalData <- rbind( data2017df, totalData )\n",
    "totalData <- rbind( data2018df, totalData )\n",
    "totalData <- rbind( data2019df, totalData )\n",
    "totalData$x <- as.factor( totalData$x )\n",
    "\n",
    "###Rename the drugs to be displayed in the final plot\n",
    "colnames( totalData )[1:7] <- c(\"Aripiprazole\", \"Risperidone\", \"Citalopram\",\n",
    "                                \"Fluoxetine\", \"Guanfacine\", \"Atomoxetine\", \n",
    "                                \"Methylphenidate\")\n",
    "upset( totalData,\n",
    "       nsets = 7,\n",
    "       queries = list(\n",
    "         list(query = elements, \n",
    "              params = list(\"x\", c(\"Year_2019\",\"Year_2018\", \"Year_2017\", \"Year_2016\",\"Year_2015\", \"Year_2014\")), color = \"#b54e75\", active = T),\n",
    "         list(query = elements, \n",
    "              params = list(\"x\", c(\"Year_2018\", \"Year_2017\",\"Year_2016\", \"Year_2015\", \"Year_2014\")), color = \"#e69f00\", active = T),\n",
    "         list(query = elements, \n",
    "              params = list(\"x\", c(\"Year_2017\",\"Year_2016\", \"Year_2015\", \"Year_2014\")), color = \"#58ad97\", active = T),\n",
    "         list(query = elements, \n",
    "              params = list(\"x\", c(\"Year_2016\", \"Year_2015\", \"Year_2014\")), color = \"#566fa8\", active = T),\n",
    "         list(query = elements, \n",
    "              params = list(\"x\", c(\"Year_2015\", \"Year_2014\")), color = \"#2a2369\", active = T),\n",
    "         list(query = elements, \n",
    "              params = list(\"x\", c(\"Year_2014\")), color = grey(0.7), active = T)\n",
    "         \n",
    "       ), \n",
    "       query.legend = \"bottom\"\n",
    ")"
   ]
  }
 ],
 "metadata": {
  "kernelspec": {
   "display_name": "R",
   "language": "R",
   "name": "ir"
  }
 },
 "nbformat": 4,
 "nbformat_minor": 2
}
