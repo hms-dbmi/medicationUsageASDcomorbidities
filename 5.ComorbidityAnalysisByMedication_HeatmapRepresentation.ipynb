{
 "cells": [
  {
   "cell_type": "markdown",
   "metadata": {},
   "source": [
    "## Heatmap representation\n",
    "\n",
    "Once we have the data extracted for the comorbidities per medication group, we proceed to the visual representation. \n",
    "\n",
    "\n",
    "First, we load the required libraries:"
   ]
  },
  {
   "cell_type": "code",
   "execution_count": null,
   "metadata": {},
   "outputs": [],
   "source": [
    "library(\"devtools\")\n",
    "library(\"SqlServerJtds\")\n",
    "library(\"SqlTools\")\n",
    "library(\"FactToCube\")\n",
    "library(\"ggplot2\")"
   ]
  },
  {
   "cell_type": "markdown",
   "metadata": {},
   "source": [
    "Then we create a table with the total number of patients taking only one of the medications. The table, inputData, contains three columns:\n",
    "- the drug name (Drug)\n",
    "- the total number of patients taking that drug (n)\n",
    "- the name of the table containing that information in the database (tableName)"
   ]
  },
  {
   "cell_type": "code",
   "execution_count": null,
   "metadata": {},
   "outputs": [],
   "source": [
    "inputData <- as.data.frame( matrix(ncol=3, nrow=7))\n",
    "colnames(inputData) <- c(\"Drug\", \"n\", \"tableName\")\n",
    "\n",
    "inputData$Drug <- c( \"Methylphenidate\", \"Guanfacine\", \"Atomoxetine\", \"Fluoxetine\", \n",
    "                     \"Citalopram\", \"Risperidone\", \"Aripiprazole\")\n",
    "\n",
    "inputData$n <- c( 4373, 3387, 561, 3053, 943, 2670, 1997 )\n",
    "\n",
    "inputData$tableName <- c( \"Methylphenidate_CMs\", \"Guanfacine_CMs\", \"Atomoxetine_CMs\", \n",
    "                          \"Fluoxetine_CMs\", \"Citalopram_CMs\", \"Risperidone_CMs\", \n",
    "                          \"Aripiprazole_CMs\")"
   ]
  },
  {
   "cell_type": "markdown",
   "metadata": {},
   "source": [
    "Then, we do a for loop to put all the information in the same data.frame that we called output and add a column with the total number of patients that take each drug to easily estimate the percentage of affected patients per comorbidity."
   ]
  },
  {
   "cell_type": "code",
   "execution_count": null,
   "metadata": {},
   "outputs": [],
   "source": [
    "for( i in 1:nrow( inputData)){\n",
    "    \n",
    "    queryCounts <- paste0( \"SELECT * FROM \", inputData$tableName[i], \n",
    "                           \" ORDER BY Level3_prevalence DESC\")\n",
    "    \n",
    "    print( i )\n",
    "    if( i == 1){\n",
    "        output <- dbGetQuery( cnag, queryCounts )\n",
    "        output$drug <- inputData$Drug[i]\n",
    "        output$totalPatients <- inputData$n[i]\n",
    "        \n",
    "    }else{\n",
    "        intermediateOutput <- dbGetQuery( cnag, queryCounts )\n",
    "        intermediateOutput$drug <- inputData$Drug[i]\n",
    "        intermediateOutput$totalPatients <- inputData$n[i]\n",
    "        output <- rbind( output, intermediateOutput )\n",
    "    }\n",
    "}\n"
   ]
  },
  {
   "cell_type": "markdown",
   "metadata": {},
   "source": [
    "We estimate the percentage of patients with each comorbidity:"
   ]
  },
  {
   "cell_type": "code",
   "execution_count": null,
   "metadata": {},
   "outputs": [],
   "source": [
    "output$percentage <- round( 100*(output$Level3_prevalence / output$totalPatients), 3)"
   ]
  },
  {
   "cell_type": "markdown",
   "metadata": {},
   "source": [
    "We select those comorbidities that are in at least 1% of the patients under each medication class. "
   ]
  },
  {
   "cell_type": "code",
   "execution_count": null,
   "metadata": {},
   "outputs": [],
   "source": [
    "outputSubset <- output[ output$percentage >= 1, ]"
   ]
  },
  {
   "cell_type": "markdown",
   "metadata": {},
   "source": [
    "## ACT mapping and heatmap representation\n",
    "To create the heatmap at different levels we merge the information with the ACT mapping ontoly at levels 1 and 3. We select those levels after careful analysis because are detailed enough and not too specific. We were looking for balance between billing codes and clinically relevance. "
   ]
  },
  {
   "cell_type": "code",
   "execution_count": null,
   "metadata": {},
   "outputs": [],
   "source": [
    "map to act\n",
    "actMapping <- dbGetQuery( cnag, \"SELECT Level1, Level3 FROM ACT_ICD10_ICD9_3\")\n",
    "actMapping <- actMapping[!duplicated( actMapping), ]\n",
    "\n",
    "#there are some level 3 that have different level 1, we should check it\n",
    "actMapping <- actMapping[!duplicated( actMapping$Level3 ), ]\n",
    "\n",
    "#mapped the level3 to level1\n",
    "outputMapped <- merge( outputSubset, actMapping)\n",
    "\n",
    "#exclude the comorbidities that are not clinically relevant\n",
    "excludedGroups <- c('Autistic disorder',\n",
    "                    'Encounter for newborn, infant and child health examinations',\n",
    "                    'motorized bicycle',\n",
    "                    'Other unknown and unspecified cause of morbidity or mortality',\n",
    "                    'Need for prophylactic vaccination and inoculation, Influenza',\n",
    "                    'Bus occupant injured in transport accident (v70-v79)',\n",
    "                    'Encounter for other specified aftercare',\n",
    "                    'Other long term (current) drug therapy',\n",
    "                    'Body mass index (bmi) pediatric')\n",
    "\n",
    "outputMapped <- outputMapped[! outputMapped$Level3 %in%  excludedGroups, ]\n",
    "save(outputMapped, file = \"outputMapped.RData\")\n"
   ]
  },
  {
   "cell_type": "markdown",
   "metadata": {},
   "source": [
    "Then before creating the heatmap we filter by the percentage of paatients having each comorbidity by each medication groups. In this case we will filter by 10%."
   ]
  },
  {
   "cell_type": "code",
   "execution_count": null,
   "metadata": {},
   "outputs": [],
   "source": [
    "drugs <- unique(toplot$drug)\n",
    "for( i in 1:length(drugs)){\n",
    "    selection <- toplot[ toplot$drug == drugs[i] & \n",
    "                             toplot$percentage >= 10, ]\n",
    "    if(i == 1){\n",
    "        phenoList <- selection$Level3\n",
    "    }else{\n",
    "        subSet <- selection$Level3\n",
    "        phenoList <- unique( c( phenoList, subSet))\n",
    "    }\n",
    "}\n",
    "\n",
    "toplot <- toplot[ toplot$Level3 %in% phenoList, ]"
   ]
  },
  {
   "cell_type": "markdown",
   "metadata": {},
   "source": [
    "Finally we create the heatmap plots:\n",
    "- one aggregating by Level 1 category. \n",
    "- another without the Level 1 aggregation category. "
   ]
  },
  {
   "cell_type": "code",
   "execution_count": null,
   "metadata": {},
   "outputs": [],
   "source": [
    "htmpOutput<- ggplot(toplot, aes(drug, stringr::str_wrap(Level3, 48), fill= percentage)) + # 60\n",
    "  geom_tile()+\n",
    "  scale_fill_gradient(low=\"white\", high=\"blue\") +\n",
    "  #scale_fill_distiller(palette = \"YlOrRd\")+\n",
    "  ggplot2::theme_bw() +\n",
    "  ggplot2::theme(axis.text.x = ggplot2::element_text(angle = 45, hjust = 1,face=\"bold\"),\n",
    "                 panel.grid = element_blank(), \n",
    "                 axis.text.y = ggplot2::element_text(size=rel(1.0)), \n",
    "                 axis.title = ggplot2:: element_text(size=rel(1.05)))+\n",
    "  labs(title = NULL, x = \"Drug\", y =  \"Level3\",fill=\"Percentage\")\n",
    "\n",
    "htmpOutput\n",
    "ggsave(filename=\"htmpOutput.png\", plot=htmpOutput, device=\"png\",\n",
    " height=9, width=11, units=\"in\", dpi=500)\n",
    "\n",
    "htmpOutput2 <- htmpOutput + facet_grid( vars( stringr::str_wrap(Level1, 50)), scales = \"free\", space = \"free\") +\n",
    "  theme(strip.text.y = element_text(angle = 0,size=rel(0.85)))\n",
    "htmpOutput2\n",
    "ggsave(filename=\"htmpOutput2.png\", plot=htmpOutput2, device=\"png\",\n",
    "       height=9, width=12, units=\"in\", dpi=500)"
   ]
  }
 ],
 "metadata": {
  "kernelspec": {
   "display_name": "R",
   "language": "R",
   "name": "ir"
  }
 },
 "nbformat": 4,
 "nbformat_minor": 2
}
